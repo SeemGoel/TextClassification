{
  "nbformat": 4,
  "nbformat_minor": 0,
  "metadata": {
    "kernelspec": {
      "display_name": "Python 3",
      "language": "python",
      "name": "python3"
    },
    "language_info": {
      "codemirror_mode": {
        "name": "ipython",
        "version": 3
      },
      "file_extension": ".py",
      "mimetype": "text/x-python",
      "name": "python",
      "nbconvert_exporter": "python",
      "pygments_lexer": "ipython3",
      "version": "3.7.6"
    },
    "colab": {
      "name": "BERT_model.ipynb",
      "provenance": [],
      "include_colab_link": true
    },
    "accelerator": "GPU"
  },
  "cells": [
    {
      "cell_type": "markdown",
      "metadata": {
        "id": "view-in-github",
        "colab_type": "text"
      },
      "source": [
        "<a href=\"https://colab.research.google.com/github/SeemGoel/TextClassification/blob/master/BERT_model.ipynb\" target=\"_parent\"><img src=\"https://colab.research.google.com/assets/colab-badge.svg\" alt=\"Open In Colab\"/></a>"
      ]
    },
    {
      "cell_type": "code",
      "metadata": {
        "id": "CAwWEgmvSyRB",
        "outputId": "801f8f92-a993-4f41-fa10-b5db3302b7bb",
        "colab": {
          "base_uri": "https://localhost:8080/"
        }
      },
      "source": [
        "!pip install sentence_transformers"
      ],
      "execution_count": null,
      "outputs": [
        {
          "output_type": "stream",
          "text": [
            "Collecting sentence_transformers\n",
            "\u001b[?25l  Downloading https://files.pythonhosted.org/packages/f4/fd/0190080aa0af78d7cd5874e4e8e85f0bed9967dd387cf05d760832b95da9/sentence-transformers-0.3.8.tar.gz (66kB)\n",
            "\u001b[K     |████████████████████████████████| 71kB 7.1MB/s \n",
            "\u001b[?25hCollecting transformers<3.4.0,>=3.1.0\n",
            "\u001b[?25l  Downloading https://files.pythonhosted.org/packages/19/22/aff234f4a841f8999e68a7a94bdd4b60b4cebcfeca5d67d61cd08c9179de/transformers-3.3.1-py3-none-any.whl (1.1MB)\n",
            "\u001b[K     |████████████████████████████████| 1.1MB 26.9MB/s \n",
            "\u001b[?25hRequirement already satisfied: tqdm in /usr/local/lib/python3.6/dist-packages (from sentence_transformers) (4.41.1)\n",
            "Requirement already satisfied: torch>=1.2.0 in /usr/local/lib/python3.6/dist-packages (from sentence_transformers) (1.7.0+cu101)\n",
            "Requirement already satisfied: numpy in /usr/local/lib/python3.6/dist-packages (from sentence_transformers) (1.18.5)\n",
            "Requirement already satisfied: scikit-learn in /usr/local/lib/python3.6/dist-packages (from sentence_transformers) (0.22.2.post1)\n",
            "Requirement already satisfied: scipy in /usr/local/lib/python3.6/dist-packages (from sentence_transformers) (1.4.1)\n",
            "Requirement already satisfied: nltk in /usr/local/lib/python3.6/dist-packages (from sentence_transformers) (3.2.5)\n",
            "Requirement already satisfied: regex!=2019.12.17 in /usr/local/lib/python3.6/dist-packages (from transformers<3.4.0,>=3.1.0->sentence_transformers) (2019.12.20)\n",
            "Collecting sacremoses\n",
            "\u001b[?25l  Downloading https://files.pythonhosted.org/packages/7d/34/09d19aff26edcc8eb2a01bed8e98f13a1537005d31e95233fd48216eed10/sacremoses-0.0.43.tar.gz (883kB)\n",
            "\u001b[K     |████████████████████████████████| 890kB 52.2MB/s \n",
            "\u001b[?25hCollecting tokenizers==0.8.1.rc2\n",
            "\u001b[?25l  Downloading https://files.pythonhosted.org/packages/80/83/8b9fccb9e48eeb575ee19179e2bdde0ee9a1904f97de5f02d19016b8804f/tokenizers-0.8.1rc2-cp36-cp36m-manylinux1_x86_64.whl (3.0MB)\n",
            "\u001b[K     |████████████████████████████████| 3.0MB 54.2MB/s \n",
            "\u001b[?25hRequirement already satisfied: requests in /usr/local/lib/python3.6/dist-packages (from transformers<3.4.0,>=3.1.0->sentence_transformers) (2.23.0)\n",
            "Requirement already satisfied: packaging in /usr/local/lib/python3.6/dist-packages (from transformers<3.4.0,>=3.1.0->sentence_transformers) (20.4)\n",
            "Requirement already satisfied: filelock in /usr/local/lib/python3.6/dist-packages (from transformers<3.4.0,>=3.1.0->sentence_transformers) (3.0.12)\n",
            "Collecting sentencepiece!=0.1.92\n",
            "\u001b[?25l  Downloading https://files.pythonhosted.org/packages/e5/2d/6d4ca4bef9a67070fa1cac508606328329152b1df10bdf31fb6e4e727894/sentencepiece-0.1.94-cp36-cp36m-manylinux2014_x86_64.whl (1.1MB)\n",
            "\u001b[K     |████████████████████████████████| 1.1MB 54.5MB/s \n",
            "\u001b[?25hRequirement already satisfied: dataclasses; python_version < \"3.7\" in /usr/local/lib/python3.6/dist-packages (from transformers<3.4.0,>=3.1.0->sentence_transformers) (0.7)\n",
            "Requirement already satisfied: typing-extensions in /usr/local/lib/python3.6/dist-packages (from torch>=1.2.0->sentence_transformers) (3.7.4.3)\n",
            "Requirement already satisfied: future in /usr/local/lib/python3.6/dist-packages (from torch>=1.2.0->sentence_transformers) (0.16.0)\n",
            "Requirement already satisfied: joblib>=0.11 in /usr/local/lib/python3.6/dist-packages (from scikit-learn->sentence_transformers) (0.17.0)\n",
            "Requirement already satisfied: six in /usr/local/lib/python3.6/dist-packages (from nltk->sentence_transformers) (1.15.0)\n",
            "Requirement already satisfied: click in /usr/local/lib/python3.6/dist-packages (from sacremoses->transformers<3.4.0,>=3.1.0->sentence_transformers) (7.1.2)\n",
            "Requirement already satisfied: urllib3!=1.25.0,!=1.25.1,<1.26,>=1.21.1 in /usr/local/lib/python3.6/dist-packages (from requests->transformers<3.4.0,>=3.1.0->sentence_transformers) (1.24.3)\n",
            "Requirement already satisfied: certifi>=2017.4.17 in /usr/local/lib/python3.6/dist-packages (from requests->transformers<3.4.0,>=3.1.0->sentence_transformers) (2020.6.20)\n",
            "Requirement already satisfied: idna<3,>=2.5 in /usr/local/lib/python3.6/dist-packages (from requests->transformers<3.4.0,>=3.1.0->sentence_transformers) (2.10)\n",
            "Requirement already satisfied: chardet<4,>=3.0.2 in /usr/local/lib/python3.6/dist-packages (from requests->transformers<3.4.0,>=3.1.0->sentence_transformers) (3.0.4)\n",
            "Requirement already satisfied: pyparsing>=2.0.2 in /usr/local/lib/python3.6/dist-packages (from packaging->transformers<3.4.0,>=3.1.0->sentence_transformers) (2.4.7)\n",
            "Building wheels for collected packages: sentence-transformers, sacremoses\n",
            "  Building wheel for sentence-transformers (setup.py) ... \u001b[?25l\u001b[?25hdone\n",
            "  Created wheel for sentence-transformers: filename=sentence_transformers-0.3.8-cp36-none-any.whl size=101996 sha256=707c5a428d40da0e867df0b2e1ca6b155037bdef84b7f3414c12bf947d664b84\n",
            "  Stored in directory: /root/.cache/pip/wheels/27/ec/b3/d12cc8e4daf77846db6543033d3a5642f204c0320b15945647\n",
            "  Building wheel for sacremoses (setup.py) ... \u001b[?25l\u001b[?25hdone\n",
            "  Created wheel for sacremoses: filename=sacremoses-0.0.43-cp36-none-any.whl size=893257 sha256=62000df5abf1843c409856346e5c410b28393d390bdcb52fc8fd9573dfa396ec\n",
            "  Stored in directory: /root/.cache/pip/wheels/29/3c/fd/7ce5c3f0666dab31a50123635e6fb5e19ceb42ce38d4e58f45\n",
            "Successfully built sentence-transformers sacremoses\n",
            "Installing collected packages: sacremoses, tokenizers, sentencepiece, transformers, sentence-transformers\n",
            "Successfully installed sacremoses-0.0.43 sentence-transformers-0.3.8 sentencepiece-0.1.94 tokenizers-0.8.1rc2 transformers-3.3.1\n"
          ],
          "name": "stdout"
        }
      ]
    },
    {
      "cell_type": "code",
      "metadata": {
        "id": "RFk8Y9jGTH_V",
        "outputId": "57fcf689-8f23-4ef5-9813-5dc5ed481259",
        "colab": {
          "base_uri": "https://localhost:8080/"
        }
      },
      "source": [
        "!pip install elasticsearch"
      ],
      "execution_count": null,
      "outputs": [
        {
          "output_type": "stream",
          "text": [
            "Collecting elasticsearch\n",
            "\u001b[?25l  Downloading https://files.pythonhosted.org/packages/14/ba/f950bdd9164fb2bbbe5093700162234fbe61f446fe2300a8993761c132ca/elasticsearch-7.10.0-py2.py3-none-any.whl (321kB)\n",
            "\r\u001b[K     |█                               | 10kB 30.6MB/s eta 0:00:01\r\u001b[K     |██                              | 20kB 35.0MB/s eta 0:00:01\r\u001b[K     |███                             | 30kB 28.5MB/s eta 0:00:01\r\u001b[K     |████                            | 40kB 29.2MB/s eta 0:00:01\r\u001b[K     |█████                           | 51kB 31.3MB/s eta 0:00:01\r\u001b[K     |██████                          | 61kB 34.2MB/s eta 0:00:01\r\u001b[K     |███████▏                        | 71kB 25.7MB/s eta 0:00:01\r\u001b[K     |████████▏                       | 81kB 25.5MB/s eta 0:00:01\r\u001b[K     |█████████▏                      | 92kB 21.4MB/s eta 0:00:01\r\u001b[K     |██████████▏                     | 102kB 21.1MB/s eta 0:00:01\r\u001b[K     |███████████▏                    | 112kB 21.1MB/s eta 0:00:01\r\u001b[K     |████████████▏                   | 122kB 21.1MB/s eta 0:00:01\r\u001b[K     |█████████████▎                  | 133kB 21.1MB/s eta 0:00:01\r\u001b[K     |██████████████▎                 | 143kB 21.1MB/s eta 0:00:01\r\u001b[K     |███████████████▎                | 153kB 21.1MB/s eta 0:00:01\r\u001b[K     |████████████████▎               | 163kB 21.1MB/s eta 0:00:01\r\u001b[K     |█████████████████▎              | 174kB 21.1MB/s eta 0:00:01\r\u001b[K     |██████████████████▎             | 184kB 21.1MB/s eta 0:00:01\r\u001b[K     |███████████████████▍            | 194kB 21.1MB/s eta 0:00:01\r\u001b[K     |████████████████████▍           | 204kB 21.1MB/s eta 0:00:01\r\u001b[K     |█████████████████████▍          | 215kB 21.1MB/s eta 0:00:01\r\u001b[K     |██████████████████████▍         | 225kB 21.1MB/s eta 0:00:01\r\u001b[K     |███████████████████████▍        | 235kB 21.1MB/s eta 0:00:01\r\u001b[K     |████████████████████████▍       | 245kB 21.1MB/s eta 0:00:01\r\u001b[K     |█████████████████████████▌      | 256kB 21.1MB/s eta 0:00:01\r\u001b[K     |██████████████████████████▌     | 266kB 21.1MB/s eta 0:00:01\r\u001b[K     |███████████████████████████▌    | 276kB 21.1MB/s eta 0:00:01\r\u001b[K     |████████████████████████████▌   | 286kB 21.1MB/s eta 0:00:01\r\u001b[K     |█████████████████████████████▌  | 296kB 21.1MB/s eta 0:00:01\r\u001b[K     |██████████████████████████████▌ | 307kB 21.1MB/s eta 0:00:01\r\u001b[K     |███████████████████████████████▋| 317kB 21.1MB/s eta 0:00:01\r\u001b[K     |████████████████████████████████| 327kB 21.1MB/s \n",
            "\u001b[?25hRequirement already satisfied: urllib3<2,>=1.21.1 in /usr/local/lib/python3.6/dist-packages (from elasticsearch) (1.24.3)\n",
            "Requirement already satisfied: certifi in /usr/local/lib/python3.6/dist-packages (from elasticsearch) (2020.6.20)\n",
            "Installing collected packages: elasticsearch\n",
            "Successfully installed elasticsearch-7.10.0\n"
          ],
          "name": "stdout"
        }
      ]
    },
    {
      "cell_type": "code",
      "metadata": {
        "id": "xflqocp_SyQ0"
      },
      "source": [
        "import pandas as pd\n",
        "import re\n",
        "import sentence_transformers\n",
        "from sentence_transformers import SentenceTransformer\n",
        "from elasticsearch import Elasticsearch\n",
        "from elasticsearch import helpers\n",
        "from transformers import AutoTokenizer, AutoModel\n",
        "import torch"
      ],
      "execution_count": null,
      "outputs": []
    },
    {
      "cell_type": "code",
      "metadata": {
        "id": "iEPkcXnHSyRJ",
        "outputId": "9775108e-1969-49e9-9007-2a2d5ffc8e46",
        "colab": {
          "base_uri": "https://localhost:8080/"
        }
      },
      "source": [
        "!pip install tensorflow"
      ],
      "execution_count": null,
      "outputs": [
        {
          "output_type": "stream",
          "text": [
            "Requirement already satisfied: tensorflow in /usr/local/lib/python3.6/dist-packages (2.3.0)\n",
            "Requirement already satisfied: wrapt>=1.11.1 in /usr/local/lib/python3.6/dist-packages (from tensorflow) (1.12.1)\n",
            "Requirement already satisfied: scipy==1.4.1 in /usr/local/lib/python3.6/dist-packages (from tensorflow) (1.4.1)\n",
            "Requirement already satisfied: six>=1.12.0 in /usr/local/lib/python3.6/dist-packages (from tensorflow) (1.15.0)\n",
            "Requirement already satisfied: grpcio>=1.8.6 in /usr/local/lib/python3.6/dist-packages (from tensorflow) (1.33.2)\n",
            "Requirement already satisfied: h5py<2.11.0,>=2.10.0 in /usr/local/lib/python3.6/dist-packages (from tensorflow) (2.10.0)\n",
            "Requirement already satisfied: termcolor>=1.1.0 in /usr/local/lib/python3.6/dist-packages (from tensorflow) (1.1.0)\n",
            "Requirement already satisfied: gast==0.3.3 in /usr/local/lib/python3.6/dist-packages (from tensorflow) (0.3.3)\n",
            "Requirement already satisfied: numpy<1.19.0,>=1.16.0 in /usr/local/lib/python3.6/dist-packages (from tensorflow) (1.18.5)\n",
            "Requirement already satisfied: google-pasta>=0.1.8 in /usr/local/lib/python3.6/dist-packages (from tensorflow) (0.2.0)\n",
            "Requirement already satisfied: tensorboard<3,>=2.3.0 in /usr/local/lib/python3.6/dist-packages (from tensorflow) (2.3.0)\n",
            "Requirement already satisfied: keras-preprocessing<1.2,>=1.1.1 in /usr/local/lib/python3.6/dist-packages (from tensorflow) (1.1.2)\n",
            "Requirement already satisfied: absl-py>=0.7.0 in /usr/local/lib/python3.6/dist-packages (from tensorflow) (0.10.0)\n",
            "Requirement already satisfied: opt-einsum>=2.3.2 in /usr/local/lib/python3.6/dist-packages (from tensorflow) (3.3.0)\n",
            "Requirement already satisfied: wheel>=0.26 in /usr/local/lib/python3.6/dist-packages (from tensorflow) (0.35.1)\n",
            "Requirement already satisfied: tensorflow-estimator<2.4.0,>=2.3.0 in /usr/local/lib/python3.6/dist-packages (from tensorflow) (2.3.0)\n",
            "Requirement already satisfied: astunparse==1.6.3 in /usr/local/lib/python3.6/dist-packages (from tensorflow) (1.6.3)\n",
            "Requirement already satisfied: protobuf>=3.9.2 in /usr/local/lib/python3.6/dist-packages (from tensorflow) (3.12.4)\n",
            "Requirement already satisfied: markdown>=2.6.8 in /usr/local/lib/python3.6/dist-packages (from tensorboard<3,>=2.3.0->tensorflow) (3.3.3)\n",
            "Requirement already satisfied: google-auth-oauthlib<0.5,>=0.4.1 in /usr/local/lib/python3.6/dist-packages (from tensorboard<3,>=2.3.0->tensorflow) (0.4.2)\n",
            "Requirement already satisfied: google-auth<2,>=1.6.3 in /usr/local/lib/python3.6/dist-packages (from tensorboard<3,>=2.3.0->tensorflow) (1.17.2)\n",
            "Requirement already satisfied: requests<3,>=2.21.0 in /usr/local/lib/python3.6/dist-packages (from tensorboard<3,>=2.3.0->tensorflow) (2.23.0)\n",
            "Requirement already satisfied: setuptools>=41.0.0 in /usr/local/lib/python3.6/dist-packages (from tensorboard<3,>=2.3.0->tensorflow) (50.3.2)\n",
            "Requirement already satisfied: tensorboard-plugin-wit>=1.6.0 in /usr/local/lib/python3.6/dist-packages (from tensorboard<3,>=2.3.0->tensorflow) (1.7.0)\n",
            "Requirement already satisfied: werkzeug>=0.11.15 in /usr/local/lib/python3.6/dist-packages (from tensorboard<3,>=2.3.0->tensorflow) (1.0.1)\n",
            "Requirement already satisfied: importlib-metadata; python_version < \"3.8\" in /usr/local/lib/python3.6/dist-packages (from markdown>=2.6.8->tensorboard<3,>=2.3.0->tensorflow) (2.0.0)\n",
            "Requirement already satisfied: requests-oauthlib>=0.7.0 in /usr/local/lib/python3.6/dist-packages (from google-auth-oauthlib<0.5,>=0.4.1->tensorboard<3,>=2.3.0->tensorflow) (1.3.0)\n",
            "Requirement already satisfied: cachetools<5.0,>=2.0.0 in /usr/local/lib/python3.6/dist-packages (from google-auth<2,>=1.6.3->tensorboard<3,>=2.3.0->tensorflow) (4.1.1)\n",
            "Requirement already satisfied: pyasn1-modules>=0.2.1 in /usr/local/lib/python3.6/dist-packages (from google-auth<2,>=1.6.3->tensorboard<3,>=2.3.0->tensorflow) (0.2.8)\n",
            "Requirement already satisfied: rsa<5,>=3.1.4; python_version >= \"3\" in /usr/local/lib/python3.6/dist-packages (from google-auth<2,>=1.6.3->tensorboard<3,>=2.3.0->tensorflow) (4.6)\n",
            "Requirement already satisfied: urllib3!=1.25.0,!=1.25.1,<1.26,>=1.21.1 in /usr/local/lib/python3.6/dist-packages (from requests<3,>=2.21.0->tensorboard<3,>=2.3.0->tensorflow) (1.24.3)\n",
            "Requirement already satisfied: certifi>=2017.4.17 in /usr/local/lib/python3.6/dist-packages (from requests<3,>=2.21.0->tensorboard<3,>=2.3.0->tensorflow) (2020.6.20)\n",
            "Requirement already satisfied: chardet<4,>=3.0.2 in /usr/local/lib/python3.6/dist-packages (from requests<3,>=2.21.0->tensorboard<3,>=2.3.0->tensorflow) (3.0.4)\n",
            "Requirement already satisfied: idna<3,>=2.5 in /usr/local/lib/python3.6/dist-packages (from requests<3,>=2.21.0->tensorboard<3,>=2.3.0->tensorflow) (2.10)\n",
            "Requirement already satisfied: zipp>=0.5 in /usr/local/lib/python3.6/dist-packages (from importlib-metadata; python_version < \"3.8\"->markdown>=2.6.8->tensorboard<3,>=2.3.0->tensorflow) (3.4.0)\n",
            "Requirement already satisfied: oauthlib>=3.0.0 in /usr/local/lib/python3.6/dist-packages (from requests-oauthlib>=0.7.0->google-auth-oauthlib<0.5,>=0.4.1->tensorboard<3,>=2.3.0->tensorflow) (3.1.0)\n",
            "Requirement already satisfied: pyasn1<0.5.0,>=0.4.6 in /usr/local/lib/python3.6/dist-packages (from pyasn1-modules>=0.2.1->google-auth<2,>=1.6.3->tensorboard<3,>=2.3.0->tensorflow) (0.4.8)\n"
          ],
          "name": "stdout"
        }
      ]
    },
    {
      "cell_type": "code",
      "metadata": {
        "id": "4u7YXJYNSyRQ",
        "outputId": "48b70d14-df7f-47d8-82a2-3828b83e1281",
        "colab": {
          "base_uri": "https://localhost:8080/"
        }
      },
      "source": [
        "!pip install tensorflow_hub"
      ],
      "execution_count": null,
      "outputs": [
        {
          "output_type": "stream",
          "text": [
            "Requirement already satisfied: tensorflow_hub in /usr/local/lib/python3.6/dist-packages (0.10.0)\n",
            "Requirement already satisfied: numpy>=1.12.0 in /usr/local/lib/python3.6/dist-packages (from tensorflow_hub) (1.18.5)\n",
            "Requirement already satisfied: protobuf>=3.8.0 in /usr/local/lib/python3.6/dist-packages (from tensorflow_hub) (3.12.4)\n",
            "Requirement already satisfied: setuptools in /usr/local/lib/python3.6/dist-packages (from protobuf>=3.8.0->tensorflow_hub) (50.3.2)\n",
            "Requirement already satisfied: six>=1.9 in /usr/local/lib/python3.6/dist-packages (from protobuf>=3.8.0->tensorflow_hub) (1.15.0)\n"
          ],
          "name": "stdout"
        }
      ]
    },
    {
      "cell_type": "code",
      "metadata": {
        "id": "U56UaDK1SyRW",
        "outputId": "9bb955c6-e014-4d04-e4f5-bfea3dad9a75",
        "colab": {
          "base_uri": "https://localhost:8080/"
        }
      },
      "source": [
        "model = SentenceTransformer('bert-base-nli-mean-tokens')"
      ],
      "execution_count": null,
      "outputs": [
        {
          "output_type": "stream",
          "text": [
            "100%|██████████| 405M/405M [00:23<00:00, 17.3MB/s]\n"
          ],
          "name": "stderr"
        }
      ]
    },
    {
      "cell_type": "code",
      "metadata": {
        "id": "xEUFCzkDnxih",
        "outputId": "39821880-2605-418e-b09e-d63a142cb4c1",
        "colab": {
          "base_uri": "https://localhost:8080/"
        }
      },
      "source": [
        "from google.colab import drive\n",
        "drive.mount('/content/drive')"
      ],
      "execution_count": null,
      "outputs": [
        {
          "output_type": "stream",
          "text": [
            "Mounted at /content/drive\n"
          ],
          "name": "stdout"
        }
      ]
    },
    {
      "cell_type": "code",
      "metadata": {
        "id": "2uAaBIVRp7z8",
        "outputId": "115bdd11-153b-4080-999d-72e780288af3",
        "colab": {
          "base_uri": "https://localhost:8080/"
        }
      },
      "source": [
        "!ls"
      ],
      "execution_count": null,
      "outputs": [
        {
          "output_type": "stream",
          "text": [
            "drive  sample_data\n"
          ],
          "name": "stdout"
        }
      ]
    },
    {
      "cell_type": "code",
      "metadata": {
        "id": "wjP5lnRHoIOr"
      },
      "source": [
        "import json\n",
        "with open(\"drive/My Drive/BERT_Task/elastic.json\") as elastic_file:\n",
        "    ELASTIC_SETTINGS = json.loads(elastic_file.read().strip())"
      ],
      "execution_count": null,
      "outputs": []
    },
    {
      "cell_type": "code",
      "metadata": {
        "id": "p-vPmuFJQFTD",
        "outputId": "f2def070-dcd0-4699-bdf7-dfb14c745e0c",
        "colab": {
          "base_uri": "https://localhost:8080/"
        }
      },
      "source": [
        "ELASTIC_SETTINGS"
      ],
      "execution_count": null,
      "outputs": [
        {
          "output_type": "execute_result",
          "data": {
            "text/plain": [
              "{'cloud_id': 'memory-optimized-deployment:ZWFzdHVzMi5henVyZS5lbGFzdGljLWNsb3VkLmNvbTo5MjQzJGI2MDJiZmQ4OWU5MzQ5NGY4NDYwZmJmOGNlMTg5ZGJkJDYwMzUxZTBiM2QzNjRjNGVhNTYwMGI3YmM2MWUwOWM2',\n",
              " 'password': 'erw5m4KTWyosH231YMAj2u0X',\n",
              " 'user': 'elastic'}"
            ]
          },
          "metadata": {
            "tags": []
          },
          "execution_count": 11
        }
      ]
    },
    {
      "cell_type": "code",
      "metadata": {
        "id": "M3fvHJDJSyRa"
      },
      "source": [
        "from elasticsearch import Elasticsearch\n",
        "from elasticsearch import helpers\n",
        "\n",
        "es = Elasticsearch(\n",
        "    cloud_id='memory-optimized-deployment:ZWFzdHVzMi5henVyZS5lbGFzdGljLWNsb3VkLmNvbTo5MjQzJGI2MDJiZmQ4OWU5MzQ5NGY4NDYwZmJmOGNlMTg5ZGJkJDYwMzUxZTBiM2QzNjRjNGVhNTYwMGI3YmM2MWUwOWM2',\n",
        "    http_auth=('elastic', 'erw5m4KTWyosH231YMAj2u0X'),\n",
        ")"
      ],
      "execution_count": null,
      "outputs": []
    },
    {
      "cell_type": "code",
      "metadata": {
        "id": "2lGi0WSfQJ-i",
        "outputId": "73f49a4a-5e13-461d-8e41-db8b74e593a9",
        "colab": {
          "base_uri": "https://localhost:8080/"
        }
      },
      "source": [
        "es.get(index=\"index\", id=\"2\")"
      ],
      "execution_count": null,
      "outputs": [
        {
          "output_type": "execute_result",
          "data": {
            "text/plain": [
              "{'_id': '2',\n",
              " '_index': 'index',\n",
              " '_primary_term': 1,\n",
              " '_seq_no': 3,\n",
              " '_source': {'body': 'me 123'},\n",
              " '_type': '_doc',\n",
              " '_version': 3,\n",
              " 'found': True}"
            ]
          },
          "metadata": {
            "tags": []
          },
          "execution_count": 13
        }
      ]
    },
    {
      "cell_type": "code",
      "metadata": {
        "id": "KUjK-hkCSyRe",
        "outputId": "87db3d46-d7bd-4d97-a6b3-ae7de7ffb4ac",
        "colab": {
          "base_uri": "https://localhost:8080/"
        }
      },
      "source": [
        "from tqdm.notebook import tqdm\n",
        "import os\n",
        "import json\n",
        "import pandas as pd\n",
        "import tensorflow as tf\n",
        "import tensorflow_hub as hub\n",
        "import time\n",
        "import numpy as np\n",
        "\n",
        "print(tf.__version__)"
      ],
      "execution_count": null,
      "outputs": [
        {
          "output_type": "stream",
          "text": [
            "2.3.0\n"
          ],
          "name": "stdout"
        }
      ]
    },
    {
      "cell_type": "code",
      "metadata": {
        "id": "bl4EtHTOUVp5",
        "outputId": "27b080d6-b8d7-446d-8734-da32c8c737c2",
        "colab": {
          "base_uri": "https://localhost:8080/"
        }
      },
      "source": [
        "from google.colab import drive\n",
        "drive.mount(\"/content/gdrive\")"
      ],
      "execution_count": null,
      "outputs": [
        {
          "output_type": "stream",
          "text": [
            "Mounted at /content/gdrive\n"
          ],
          "name": "stdout"
        }
      ]
    },
    {
      "cell_type": "code",
      "metadata": {
        "id": "1ObQVbI1SyRj"
      },
      "source": [
        "working_list=[]\n",
        "df_desc = pd.read_csv('gdrive/My Drive/BERT_Task/Input_Data_domain_full_text.csv')"
      ],
      "execution_count": null,
      "outputs": []
    },
    {
      "cell_type": "code",
      "metadata": {
        "id": "DkAMxC7WSyRn",
        "outputId": "5fa154c5-63d3-4718-bd17-f502e2fa231e",
        "colab": {
          "base_uri": "https://localhost:8080/"
        }
      },
      "source": [
        "df_desc.columns"
      ],
      "execution_count": null,
      "outputs": [
        {
          "output_type": "execute_result",
          "data": {
            "text/plain": [
              "Index(['Unnamed: 0', '_id', '_score', 'text'], dtype='object')"
            ]
          },
          "metadata": {
            "tags": []
          },
          "execution_count": 17
        }
      ]
    },
    {
      "cell_type": "code",
      "metadata": {
        "id": "JZD8y8DVSyRq"
      },
      "source": [
        "df_desc=df_desc.rename(columns={\"Unnamed: 0\":\"i\",\"_id\":'company','_score':'score','text':'description'})"
      ],
      "execution_count": null,
      "outputs": []
    },
    {
      "cell_type": "code",
      "metadata": {
        "id": "YOthkmGmSyRu",
        "outputId": "df3bca1d-993d-4246-8c72-d3fe75373604",
        "colab": {
          "base_uri": "https://localhost:8080/"
        }
      },
      "source": [
        "df_desc.isna().sum()"
      ],
      "execution_count": null,
      "outputs": [
        {
          "output_type": "execute_result",
          "data": {
            "text/plain": [
              "i              0\n",
              "company        0\n",
              "score          0\n",
              "description    0\n",
              "dtype: int64"
            ]
          },
          "metadata": {
            "tags": []
          },
          "execution_count": 19
        }
      ]
    },
    {
      "cell_type": "code",
      "metadata": {
        "scrolled": true,
        "id": "9BsvgBkfSyRy",
        "outputId": "bb92770c-365e-4bed-d547-b894bcb0a48c",
        "colab": {
          "base_uri": "https://localhost:8080/",
          "height": 462
        }
      },
      "source": [
        "df_desc[21:35]"
      ],
      "execution_count": null,
      "outputs": [
        {
          "output_type": "execute_result",
          "data": {
            "text/html": [
              "<div>\n",
              "<style scoped>\n",
              "    .dataframe tbody tr th:only-of-type {\n",
              "        vertical-align: middle;\n",
              "    }\n",
              "\n",
              "    .dataframe tbody tr th {\n",
              "        vertical-align: top;\n",
              "    }\n",
              "\n",
              "    .dataframe thead th {\n",
              "        text-align: right;\n",
              "    }\n",
              "</style>\n",
              "<table border=\"1\" class=\"dataframe\">\n",
              "  <thead>\n",
              "    <tr style=\"text-align: right;\">\n",
              "      <th></th>\n",
              "      <th>i</th>\n",
              "      <th>company</th>\n",
              "      <th>score</th>\n",
              "      <th>description</th>\n",
              "    </tr>\n",
              "  </thead>\n",
              "  <tbody>\n",
              "    <tr>\n",
              "      <th>21</th>\n",
              "      <td>21</td>\n",
              "      <td>zv-nm.com</td>\n",
              "      <td>1.0</td>\n",
              "      <td>['0', '693 East Ave', 'About', 'About Us', 'Co...</td>\n",
              "    </tr>\n",
              "    <tr>\n",
              "      <th>22</th>\n",
              "      <td>22</td>\n",
              "      <td>zuper.co</td>\n",
              "      <td>1.0</td>\n",
              "      <td>['#001374', '#116ebf', '#3b5998', '#82b541', '...</td>\n",
              "    </tr>\n",
              "    <tr>\n",
              "      <th>23</th>\n",
              "      <td>23</td>\n",
              "      <td>zuora.com</td>\n",
              "      <td>1.0</td>\n",
              "      <td>['\"Having gone through an ERP upgrade that inc...</td>\n",
              "    </tr>\n",
              "    <tr>\n",
              "      <th>24</th>\n",
              "      <td>24</td>\n",
              "      <td>zumolabs.ai</td>\n",
              "      <td>1.0</td>\n",
              "      <td>['At Zumo Labs, we generate custom synthetic d...</td>\n",
              "    </tr>\n",
              "    <tr>\n",
              "      <th>25</th>\n",
              "      <td>25</td>\n",
              "      <td>zumasys.com</td>\n",
              "      <td>1.0</td>\n",
              "      <td>['#1 Workplaces for Giving Back 2016', '(Pick ...</td>\n",
              "    </tr>\n",
              "    <tr>\n",
              "      <th>26</th>\n",
              "      <td>26</td>\n",
              "      <td>zuggand.com</td>\n",
              "      <td>1.0</td>\n",
              "      <td>['&amp; Compliance', '&amp; Drive Alignment', '&amp; IT Ri...</td>\n",
              "    </tr>\n",
              "    <tr>\n",
              "      <th>27</th>\n",
              "      <td>27</td>\n",
              "      <td>zugang.com.au</td>\n",
              "      <td>1.0</td>\n",
              "      <td>['+65.94875521 / +61410633849 / +17185214592',...</td>\n",
              "    </tr>\n",
              "    <tr>\n",
              "      <th>28</th>\n",
              "      <td>28</td>\n",
              "      <td>zuerns.com</td>\n",
              "      <td>1.0</td>\n",
              "      <td>['$15 – Now Taking Pre-Orders! Provide: Name |...</td>\n",
              "    </tr>\n",
              "    <tr>\n",
              "      <th>29</th>\n",
              "      <td>29</td>\n",
              "      <td>ztscorp.com</td>\n",
              "      <td>1.0</td>\n",
              "      <td>[', or preparing to negotiate a VBP contract, ...</td>\n",
              "    </tr>\n",
              "    <tr>\n",
              "      <th>30</th>\n",
              "      <td>30</td>\n",
              "      <td>zsolutionz.com</td>\n",
              "      <td>1.0</td>\n",
              "      <td>['$280.00', '$287.95', '$7.95', '1-Year Regist...</td>\n",
              "    </tr>\n",
              "    <tr>\n",
              "      <th>31</th>\n",
              "      <td>31</td>\n",
              "      <td>zsanalytics.com</td>\n",
              "      <td>1.0</td>\n",
              "      <td>['\"A wavelet transform method to merge Landsat...</td>\n",
              "    </tr>\n",
              "    <tr>\n",
              "      <th>32</th>\n",
              "      <td>32</td>\n",
              "      <td>zsah.net</td>\n",
              "      <td>1.0</td>\n",
              "      <td>['\"Let zsah take care of your technology and d...</td>\n",
              "    </tr>\n",
              "    <tr>\n",
              "      <th>33</th>\n",
              "      <td>33</td>\n",
              "      <td>zs.com</td>\n",
              "      <td>1.0</td>\n",
              "      <td>['\"To be able to exceed delivery expectations ...</td>\n",
              "    </tr>\n",
              "    <tr>\n",
              "      <th>34</th>\n",
              "      <td>34</td>\n",
              "      <td>zrivercapital.com</td>\n",
              "      <td>1.0</td>\n",
              "      <td>['ABOUT US', 'About', 'Add: 409, Building A, R...</td>\n",
              "    </tr>\n",
              "  </tbody>\n",
              "</table>\n",
              "</div>"
            ],
            "text/plain": [
              "     i  ...                                        description\n",
              "21  21  ...  ['0', '693 East Ave', 'About', 'About Us', 'Co...\n",
              "22  22  ...  ['#001374', '#116ebf', '#3b5998', '#82b541', '...\n",
              "23  23  ...  ['\"Having gone through an ERP upgrade that inc...\n",
              "24  24  ...  ['At Zumo Labs, we generate custom synthetic d...\n",
              "25  25  ...  ['#1 Workplaces for Giving Back 2016', '(Pick ...\n",
              "26  26  ...  ['& Compliance', '& Drive Alignment', '& IT Ri...\n",
              "27  27  ...  ['+65.94875521 / +61410633849 / +17185214592',...\n",
              "28  28  ...  ['$15 – Now Taking Pre-Orders! Provide: Name |...\n",
              "29  29  ...  [', or preparing to negotiate a VBP contract, ...\n",
              "30  30  ...  ['$280.00', '$287.95', '$7.95', '1-Year Regist...\n",
              "31  31  ...  ['\"A wavelet transform method to merge Landsat...\n",
              "32  32  ...  ['\"Let zsah take care of your technology and d...\n",
              "33  33  ...  ['\"To be able to exceed delivery expectations ...\n",
              "34  34  ...  ['ABOUT US', 'About', 'Add: 409, Building A, R...\n",
              "\n",
              "[14 rows x 4 columns]"
            ]
          },
          "metadata": {
            "tags": []
          },
          "execution_count": 20
        }
      ]
    },
    {
      "cell_type": "code",
      "metadata": {
        "id": "VlnCzQo0SyR1",
        "outputId": "a1cab2df-b1b6-49aa-ecef-ce6ccc6ddcf1",
        "colab": {
          "base_uri": "https://localhost:8080/",
          "height": 402
        }
      },
      "source": [
        "df_desc[pd.to_numeric(df_desc['i'], errors='coerce').notnull()]"
      ],
      "execution_count": null,
      "outputs": [
        {
          "output_type": "execute_result",
          "data": {
            "text/html": [
              "<div>\n",
              "<style scoped>\n",
              "    .dataframe tbody tr th:only-of-type {\n",
              "        vertical-align: middle;\n",
              "    }\n",
              "\n",
              "    .dataframe tbody tr th {\n",
              "        vertical-align: top;\n",
              "    }\n",
              "\n",
              "    .dataframe thead th {\n",
              "        text-align: right;\n",
              "    }\n",
              "</style>\n",
              "<table border=\"1\" class=\"dataframe\">\n",
              "  <thead>\n",
              "    <tr style=\"text-align: right;\">\n",
              "      <th></th>\n",
              "      <th>i</th>\n",
              "      <th>company</th>\n",
              "      <th>score</th>\n",
              "      <th>description</th>\n",
              "    </tr>\n",
              "  </thead>\n",
              "  <tbody>\n",
              "    <tr>\n",
              "      <th>0</th>\n",
              "      <td>0</td>\n",
              "      <td>zzalpha.com</td>\n",
              "      <td>1.0</td>\n",
              "      <td>['\" gives a more accurate picture: you LOST 13...</td>\n",
              "    </tr>\n",
              "    <tr>\n",
              "      <th>1</th>\n",
              "      <td>1</td>\n",
              "      <td>zz-tmt.com</td>\n",
              "      <td>1.0</td>\n",
              "      <td>['1', '2', '3', '4', 'ABS', 'AS', 'About TMT',...</td>\n",
              "    </tr>\n",
              "    <tr>\n",
              "      <th>2</th>\n",
              "      <td>2</td>\n",
              "      <td>zytekautomotive.co.uk</td>\n",
              "      <td>1.0</td>\n",
              "      <td>['(Further information can be read on our Hist...</td>\n",
              "    </tr>\n",
              "    <tr>\n",
              "      <th>3</th>\n",
              "      <td>3</td>\n",
              "      <td>zytek.co.uk</td>\n",
              "      <td>1.0</td>\n",
              "      <td>['(Further information can be read on our Hist...</td>\n",
              "    </tr>\n",
              "    <tr>\n",
              "      <th>4</th>\n",
              "      <td>4</td>\n",
              "      <td>zytecsystems.co.uk</td>\n",
              "      <td>1.0</td>\n",
              "      <td>['\"Since the incorporation of the company we h...</td>\n",
              "    </tr>\n",
              "    <tr>\n",
              "      <th>...</th>\n",
              "      <td>...</td>\n",
              "      <td>...</td>\n",
              "      <td>...</td>\n",
              "      <td>...</td>\n",
              "    </tr>\n",
              "    <tr>\n",
              "      <th>20388</th>\n",
              "      <td>20388</td>\n",
              "      <td>ascoeq.com</td>\n",
              "      <td>1.0</td>\n",
              "      <td>['(800) 687-0008', '(806) 372-1999', '* Fields...</td>\n",
              "    </tr>\n",
              "    <tr>\n",
              "      <th>20389</th>\n",
              "      <td>20389</td>\n",
              "      <td>aschome.com</td>\n",
              "      <td>1.0</td>\n",
              "      <td>['(818) 833-0080', '(818) 833-0088', '- And mo...</td>\n",
              "    </tr>\n",
              "    <tr>\n",
              "      <th>20390</th>\n",
              "      <td>20390</td>\n",
              "      <td>ascentwebportal.com</td>\n",
              "      <td>1.0</td>\n",
              "      <td>['\"I\\'m incredibly pleased that we have establ...</td>\n",
              "    </tr>\n",
              "    <tr>\n",
              "      <th>20391</th>\n",
              "      <td>20391</td>\n",
              "      <td>ascentvp.com</td>\n",
              "      <td>1.0</td>\n",
              "      <td>['\"Ascent is a proven partner for scaling grea...</td>\n",
              "    </tr>\n",
              "    <tr>\n",
              "      <th>20392</th>\n",
              "      <td>20392</td>\n",
              "      <td>ascentvision.com</td>\n",
              "      <td>1.0</td>\n",
              "      <td>['(AVT) specializes in gyro-stabilized imaging...</td>\n",
              "    </tr>\n",
              "  </tbody>\n",
              "</table>\n",
              "<p>20393 rows × 4 columns</p>\n",
              "</div>"
            ],
            "text/plain": [
              "           i  ...                                        description\n",
              "0          0  ...  ['\" gives a more accurate picture: you LOST 13...\n",
              "1          1  ...  ['1', '2', '3', '4', 'ABS', 'AS', 'About TMT',...\n",
              "2          2  ...  ['(Further information can be read on our Hist...\n",
              "3          3  ...  ['(Further information can be read on our Hist...\n",
              "4          4  ...  ['\"Since the incorporation of the company we h...\n",
              "...      ...  ...                                                ...\n",
              "20388  20388  ...  ['(800) 687-0008', '(806) 372-1999', '* Fields...\n",
              "20389  20389  ...  ['(818) 833-0080', '(818) 833-0088', '- And mo...\n",
              "20390  20390  ...  ['\"I\\'m incredibly pleased that we have establ...\n",
              "20391  20391  ...  ['\"Ascent is a proven partner for scaling grea...\n",
              "20392  20392  ...  ['(AVT) specializes in gyro-stabilized imaging...\n",
              "\n",
              "[20393 rows x 4 columns]"
            ]
          },
          "metadata": {
            "tags": []
          },
          "execution_count": 21
        }
      ]
    },
    {
      "cell_type": "code",
      "metadata": {
        "id": "U6vsJPV5SyR4"
      },
      "source": [
        "df_desc.dropna(subset=['i'], inplace=True)"
      ],
      "execution_count": null,
      "outputs": []
    },
    {
      "cell_type": "code",
      "metadata": {
        "id": "hXGunxxpSyR8",
        "outputId": "0a1fbfce-778c-4aca-c2e7-29c90d5ed5aa",
        "colab": {
          "base_uri": "https://localhost:8080/",
          "height": 402
        }
      },
      "source": [
        "df_desc"
      ],
      "execution_count": null,
      "outputs": [
        {
          "output_type": "execute_result",
          "data": {
            "text/html": [
              "<div>\n",
              "<style scoped>\n",
              "    .dataframe tbody tr th:only-of-type {\n",
              "        vertical-align: middle;\n",
              "    }\n",
              "\n",
              "    .dataframe tbody tr th {\n",
              "        vertical-align: top;\n",
              "    }\n",
              "\n",
              "    .dataframe thead th {\n",
              "        text-align: right;\n",
              "    }\n",
              "</style>\n",
              "<table border=\"1\" class=\"dataframe\">\n",
              "  <thead>\n",
              "    <tr style=\"text-align: right;\">\n",
              "      <th></th>\n",
              "      <th>i</th>\n",
              "      <th>company</th>\n",
              "      <th>score</th>\n",
              "      <th>description</th>\n",
              "    </tr>\n",
              "  </thead>\n",
              "  <tbody>\n",
              "    <tr>\n",
              "      <th>0</th>\n",
              "      <td>0</td>\n",
              "      <td>zzalpha.com</td>\n",
              "      <td>1.0</td>\n",
              "      <td>['\" gives a more accurate picture: you LOST 13...</td>\n",
              "    </tr>\n",
              "    <tr>\n",
              "      <th>1</th>\n",
              "      <td>1</td>\n",
              "      <td>zz-tmt.com</td>\n",
              "      <td>1.0</td>\n",
              "      <td>['1', '2', '3', '4', 'ABS', 'AS', 'About TMT',...</td>\n",
              "    </tr>\n",
              "    <tr>\n",
              "      <th>2</th>\n",
              "      <td>2</td>\n",
              "      <td>zytekautomotive.co.uk</td>\n",
              "      <td>1.0</td>\n",
              "      <td>['(Further information can be read on our Hist...</td>\n",
              "    </tr>\n",
              "    <tr>\n",
              "      <th>3</th>\n",
              "      <td>3</td>\n",
              "      <td>zytek.co.uk</td>\n",
              "      <td>1.0</td>\n",
              "      <td>['(Further information can be read on our Hist...</td>\n",
              "    </tr>\n",
              "    <tr>\n",
              "      <th>4</th>\n",
              "      <td>4</td>\n",
              "      <td>zytecsystems.co.uk</td>\n",
              "      <td>1.0</td>\n",
              "      <td>['\"Since the incorporation of the company we h...</td>\n",
              "    </tr>\n",
              "    <tr>\n",
              "      <th>...</th>\n",
              "      <td>...</td>\n",
              "      <td>...</td>\n",
              "      <td>...</td>\n",
              "      <td>...</td>\n",
              "    </tr>\n",
              "    <tr>\n",
              "      <th>20388</th>\n",
              "      <td>20388</td>\n",
              "      <td>ascoeq.com</td>\n",
              "      <td>1.0</td>\n",
              "      <td>['(800) 687-0008', '(806) 372-1999', '* Fields...</td>\n",
              "    </tr>\n",
              "    <tr>\n",
              "      <th>20389</th>\n",
              "      <td>20389</td>\n",
              "      <td>aschome.com</td>\n",
              "      <td>1.0</td>\n",
              "      <td>['(818) 833-0080', '(818) 833-0088', '- And mo...</td>\n",
              "    </tr>\n",
              "    <tr>\n",
              "      <th>20390</th>\n",
              "      <td>20390</td>\n",
              "      <td>ascentwebportal.com</td>\n",
              "      <td>1.0</td>\n",
              "      <td>['\"I\\'m incredibly pleased that we have establ...</td>\n",
              "    </tr>\n",
              "    <tr>\n",
              "      <th>20391</th>\n",
              "      <td>20391</td>\n",
              "      <td>ascentvp.com</td>\n",
              "      <td>1.0</td>\n",
              "      <td>['\"Ascent is a proven partner for scaling grea...</td>\n",
              "    </tr>\n",
              "    <tr>\n",
              "      <th>20392</th>\n",
              "      <td>20392</td>\n",
              "      <td>ascentvision.com</td>\n",
              "      <td>1.0</td>\n",
              "      <td>['(AVT) specializes in gyro-stabilized imaging...</td>\n",
              "    </tr>\n",
              "  </tbody>\n",
              "</table>\n",
              "<p>20393 rows × 4 columns</p>\n",
              "</div>"
            ],
            "text/plain": [
              "           i  ...                                        description\n",
              "0          0  ...  ['\" gives a more accurate picture: you LOST 13...\n",
              "1          1  ...  ['1', '2', '3', '4', 'ABS', 'AS', 'About TMT',...\n",
              "2          2  ...  ['(Further information can be read on our Hist...\n",
              "3          3  ...  ['(Further information can be read on our Hist...\n",
              "4          4  ...  ['\"Since the incorporation of the company we h...\n",
              "...      ...  ...                                                ...\n",
              "20388  20388  ...  ['(800) 687-0008', '(806) 372-1999', '* Fields...\n",
              "20389  20389  ...  ['(818) 833-0080', '(818) 833-0088', '- And mo...\n",
              "20390  20390  ...  ['\"I\\'m incredibly pleased that we have establ...\n",
              "20391  20391  ...  ['\"Ascent is a proven partner for scaling grea...\n",
              "20392  20392  ...  ['(AVT) specializes in gyro-stabilized imaging...\n",
              "\n",
              "[20393 rows x 4 columns]"
            ]
          },
          "metadata": {
            "tags": []
          },
          "execution_count": 23
        }
      ]
    },
    {
      "cell_type": "code",
      "metadata": {
        "scrolled": true,
        "id": "QqlEZvyaSyR-",
        "outputId": "3c8fce8c-5271-436c-8df5-2e7bd42b6a04",
        "colab": {
          "base_uri": "https://localhost:8080/",
          "height": 402
        }
      },
      "source": [
        "df_desc[df_desc['description'].str.contains('[\\u4e00-\\u9fff]+')==False]"
      ],
      "execution_count": null,
      "outputs": [
        {
          "output_type": "execute_result",
          "data": {
            "text/html": [
              "<div>\n",
              "<style scoped>\n",
              "    .dataframe tbody tr th:only-of-type {\n",
              "        vertical-align: middle;\n",
              "    }\n",
              "\n",
              "    .dataframe tbody tr th {\n",
              "        vertical-align: top;\n",
              "    }\n",
              "\n",
              "    .dataframe thead th {\n",
              "        text-align: right;\n",
              "    }\n",
              "</style>\n",
              "<table border=\"1\" class=\"dataframe\">\n",
              "  <thead>\n",
              "    <tr style=\"text-align: right;\">\n",
              "      <th></th>\n",
              "      <th>i</th>\n",
              "      <th>company</th>\n",
              "      <th>score</th>\n",
              "      <th>description</th>\n",
              "    </tr>\n",
              "  </thead>\n",
              "  <tbody>\n",
              "    <tr>\n",
              "      <th>0</th>\n",
              "      <td>0</td>\n",
              "      <td>zzalpha.com</td>\n",
              "      <td>1.0</td>\n",
              "      <td>['\" gives a more accurate picture: you LOST 13...</td>\n",
              "    </tr>\n",
              "    <tr>\n",
              "      <th>2</th>\n",
              "      <td>2</td>\n",
              "      <td>zytekautomotive.co.uk</td>\n",
              "      <td>1.0</td>\n",
              "      <td>['(Further information can be read on our Hist...</td>\n",
              "    </tr>\n",
              "    <tr>\n",
              "      <th>3</th>\n",
              "      <td>3</td>\n",
              "      <td>zytek.co.uk</td>\n",
              "      <td>1.0</td>\n",
              "      <td>['(Further information can be read on our Hist...</td>\n",
              "    </tr>\n",
              "    <tr>\n",
              "      <th>4</th>\n",
              "      <td>4</td>\n",
              "      <td>zytecsystems.co.uk</td>\n",
              "      <td>1.0</td>\n",
              "      <td>['\"Since the incorporation of the company we h...</td>\n",
              "    </tr>\n",
              "    <tr>\n",
              "      <th>5</th>\n",
              "      <td>5</td>\n",
              "      <td>zyquest.us</td>\n",
              "      <td>1.0</td>\n",
              "      <td>['04/12/2016', '05/06/2016', '12/03/2015', '13...</td>\n",
              "    </tr>\n",
              "    <tr>\n",
              "      <th>...</th>\n",
              "      <td>...</td>\n",
              "      <td>...</td>\n",
              "      <td>...</td>\n",
              "      <td>...</td>\n",
              "    </tr>\n",
              "    <tr>\n",
              "      <th>20388</th>\n",
              "      <td>20388</td>\n",
              "      <td>ascoeq.com</td>\n",
              "      <td>1.0</td>\n",
              "      <td>['(800) 687-0008', '(806) 372-1999', '* Fields...</td>\n",
              "    </tr>\n",
              "    <tr>\n",
              "      <th>20389</th>\n",
              "      <td>20389</td>\n",
              "      <td>aschome.com</td>\n",
              "      <td>1.0</td>\n",
              "      <td>['(818) 833-0080', '(818) 833-0088', '- And mo...</td>\n",
              "    </tr>\n",
              "    <tr>\n",
              "      <th>20390</th>\n",
              "      <td>20390</td>\n",
              "      <td>ascentwebportal.com</td>\n",
              "      <td>1.0</td>\n",
              "      <td>['\"I\\'m incredibly pleased that we have establ...</td>\n",
              "    </tr>\n",
              "    <tr>\n",
              "      <th>20391</th>\n",
              "      <td>20391</td>\n",
              "      <td>ascentvp.com</td>\n",
              "      <td>1.0</td>\n",
              "      <td>['\"Ascent is a proven partner for scaling grea...</td>\n",
              "    </tr>\n",
              "    <tr>\n",
              "      <th>20392</th>\n",
              "      <td>20392</td>\n",
              "      <td>ascentvision.com</td>\n",
              "      <td>1.0</td>\n",
              "      <td>['(AVT) specializes in gyro-stabilized imaging...</td>\n",
              "    </tr>\n",
              "  </tbody>\n",
              "</table>\n",
              "<p>18928 rows × 4 columns</p>\n",
              "</div>"
            ],
            "text/plain": [
              "           i  ...                                        description\n",
              "0          0  ...  ['\" gives a more accurate picture: you LOST 13...\n",
              "2          2  ...  ['(Further information can be read on our Hist...\n",
              "3          3  ...  ['(Further information can be read on our Hist...\n",
              "4          4  ...  ['\"Since the incorporation of the company we h...\n",
              "5          5  ...  ['04/12/2016', '05/06/2016', '12/03/2015', '13...\n",
              "...      ...  ...                                                ...\n",
              "20388  20388  ...  ['(800) 687-0008', '(806) 372-1999', '* Fields...\n",
              "20389  20389  ...  ['(818) 833-0080', '(818) 833-0088', '- And mo...\n",
              "20390  20390  ...  ['\"I\\'m incredibly pleased that we have establ...\n",
              "20391  20391  ...  ['\"Ascent is a proven partner for scaling grea...\n",
              "20392  20392  ...  ['(AVT) specializes in gyro-stabilized imaging...\n",
              "\n",
              "[18928 rows x 4 columns]"
            ]
          },
          "metadata": {
            "tags": []
          },
          "execution_count": 24
        }
      ]
    },
    {
      "cell_type": "code",
      "metadata": {
        "id": "UC-oO8ZnSySB",
        "outputId": "1f9564f7-b997-40fb-8c8d-09de7e4148e8",
        "colab": {
          "base_uri": "https://localhost:8080/"
        }
      },
      "source": [
        "working_list = df_desc[['company','description']]\n",
        "working_list.loc[:,('description')]=working_list.loc[:,('description')].replace(\"/\",\" \")\n",
        "Workinglist1=working_list[working_list['description'].str.contains('[\\u4e00-\\u9fff]+')==False]"
      ],
      "execution_count": null,
      "outputs": [
        {
          "output_type": "stream",
          "text": [
            "/usr/local/lib/python3.6/dist-packages/pandas/core/indexing.py:1781: SettingWithCopyWarning: \n",
            "A value is trying to be set on a copy of a slice from a DataFrame.\n",
            "Try using .loc[row_indexer,col_indexer] = value instead\n",
            "\n",
            "See the caveats in the documentation: https://pandas.pydata.org/pandas-docs/stable/user_guide/indexing.html#returning-a-view-versus-a-copy\n",
            "  self.obj[item_labels[indexer[info_axis]]] = value\n"
          ],
          "name": "stderr"
        }
      ]
    },
    {
      "cell_type": "code",
      "metadata": {
        "id": "dSF-eHM-SySE",
        "outputId": "9fdcff75-6b14-4015-b266-e3e1b906fde0",
        "colab": {
          "base_uri": "https://localhost:8080/",
          "height": 402
        }
      },
      "source": [
        "Workinglist1"
      ],
      "execution_count": null,
      "outputs": [
        {
          "output_type": "execute_result",
          "data": {
            "text/html": [
              "<div>\n",
              "<style scoped>\n",
              "    .dataframe tbody tr th:only-of-type {\n",
              "        vertical-align: middle;\n",
              "    }\n",
              "\n",
              "    .dataframe tbody tr th {\n",
              "        vertical-align: top;\n",
              "    }\n",
              "\n",
              "    .dataframe thead th {\n",
              "        text-align: right;\n",
              "    }\n",
              "</style>\n",
              "<table border=\"1\" class=\"dataframe\">\n",
              "  <thead>\n",
              "    <tr style=\"text-align: right;\">\n",
              "      <th></th>\n",
              "      <th>company</th>\n",
              "      <th>description</th>\n",
              "    </tr>\n",
              "  </thead>\n",
              "  <tbody>\n",
              "    <tr>\n",
              "      <th>0</th>\n",
              "      <td>zzalpha.com</td>\n",
              "      <td>['\" gives a more accurate picture: you LOST 13...</td>\n",
              "    </tr>\n",
              "    <tr>\n",
              "      <th>2</th>\n",
              "      <td>zytekautomotive.co.uk</td>\n",
              "      <td>['(Further information can be read on our Hist...</td>\n",
              "    </tr>\n",
              "    <tr>\n",
              "      <th>3</th>\n",
              "      <td>zytek.co.uk</td>\n",
              "      <td>['(Further information can be read on our Hist...</td>\n",
              "    </tr>\n",
              "    <tr>\n",
              "      <th>4</th>\n",
              "      <td>zytecsystems.co.uk</td>\n",
              "      <td>['\"Since the incorporation of the company we h...</td>\n",
              "    </tr>\n",
              "    <tr>\n",
              "      <th>5</th>\n",
              "      <td>zyquest.us</td>\n",
              "      <td>['04/12/2016', '05/06/2016', '12/03/2015', '13...</td>\n",
              "    </tr>\n",
              "    <tr>\n",
              "      <th>...</th>\n",
              "      <td>...</td>\n",
              "      <td>...</td>\n",
              "    </tr>\n",
              "    <tr>\n",
              "      <th>20388</th>\n",
              "      <td>ascoeq.com</td>\n",
              "      <td>['(800) 687-0008', '(806) 372-1999', '* Fields...</td>\n",
              "    </tr>\n",
              "    <tr>\n",
              "      <th>20389</th>\n",
              "      <td>aschome.com</td>\n",
              "      <td>['(818) 833-0080', '(818) 833-0088', '- And mo...</td>\n",
              "    </tr>\n",
              "    <tr>\n",
              "      <th>20390</th>\n",
              "      <td>ascentwebportal.com</td>\n",
              "      <td>['\"I\\'m incredibly pleased that we have establ...</td>\n",
              "    </tr>\n",
              "    <tr>\n",
              "      <th>20391</th>\n",
              "      <td>ascentvp.com</td>\n",
              "      <td>['\"Ascent is a proven partner for scaling grea...</td>\n",
              "    </tr>\n",
              "    <tr>\n",
              "      <th>20392</th>\n",
              "      <td>ascentvision.com</td>\n",
              "      <td>['(AVT) specializes in gyro-stabilized imaging...</td>\n",
              "    </tr>\n",
              "  </tbody>\n",
              "</table>\n",
              "<p>18928 rows × 2 columns</p>\n",
              "</div>"
            ],
            "text/plain": [
              "                     company                                        description\n",
              "0                zzalpha.com  ['\" gives a more accurate picture: you LOST 13...\n",
              "2      zytekautomotive.co.uk  ['(Further information can be read on our Hist...\n",
              "3                zytek.co.uk  ['(Further information can be read on our Hist...\n",
              "4         zytecsystems.co.uk  ['\"Since the incorporation of the company we h...\n",
              "5                 zyquest.us  ['04/12/2016', '05/06/2016', '12/03/2015', '13...\n",
              "...                      ...                                                ...\n",
              "20388             ascoeq.com  ['(800) 687-0008', '(806) 372-1999', '* Fields...\n",
              "20389            aschome.com  ['(818) 833-0080', '(818) 833-0088', '- And mo...\n",
              "20390    ascentwebportal.com  ['\"I\\'m incredibly pleased that we have establ...\n",
              "20391           ascentvp.com  ['\"Ascent is a proven partner for scaling grea...\n",
              "20392       ascentvision.com  ['(AVT) specializes in gyro-stabilized imaging...\n",
              "\n",
              "[18928 rows x 2 columns]"
            ]
          },
          "metadata": {
            "tags": []
          },
          "execution_count": 26
        }
      ]
    },
    {
      "cell_type": "code",
      "metadata": {
        "id": "QlCGtpZ5SySH",
        "outputId": "28d3d6ed-3011-486a-fb28-fa2a345cff7b",
        "colab": {
          "base_uri": "https://localhost:8080/",
          "height": 402
        }
      },
      "source": [
        "working_list"
      ],
      "execution_count": null,
      "outputs": [
        {
          "output_type": "execute_result",
          "data": {
            "text/html": [
              "<div>\n",
              "<style scoped>\n",
              "    .dataframe tbody tr th:only-of-type {\n",
              "        vertical-align: middle;\n",
              "    }\n",
              "\n",
              "    .dataframe tbody tr th {\n",
              "        vertical-align: top;\n",
              "    }\n",
              "\n",
              "    .dataframe thead th {\n",
              "        text-align: right;\n",
              "    }\n",
              "</style>\n",
              "<table border=\"1\" class=\"dataframe\">\n",
              "  <thead>\n",
              "    <tr style=\"text-align: right;\">\n",
              "      <th></th>\n",
              "      <th>company</th>\n",
              "      <th>description</th>\n",
              "    </tr>\n",
              "  </thead>\n",
              "  <tbody>\n",
              "    <tr>\n",
              "      <th>0</th>\n",
              "      <td>zzalpha.com</td>\n",
              "      <td>['\" gives a more accurate picture: you LOST 13...</td>\n",
              "    </tr>\n",
              "    <tr>\n",
              "      <th>1</th>\n",
              "      <td>zz-tmt.com</td>\n",
              "      <td>['1', '2', '3', '4', 'ABS', 'AS', 'About TMT',...</td>\n",
              "    </tr>\n",
              "    <tr>\n",
              "      <th>2</th>\n",
              "      <td>zytekautomotive.co.uk</td>\n",
              "      <td>['(Further information can be read on our Hist...</td>\n",
              "    </tr>\n",
              "    <tr>\n",
              "      <th>3</th>\n",
              "      <td>zytek.co.uk</td>\n",
              "      <td>['(Further information can be read on our Hist...</td>\n",
              "    </tr>\n",
              "    <tr>\n",
              "      <th>4</th>\n",
              "      <td>zytecsystems.co.uk</td>\n",
              "      <td>['\"Since the incorporation of the company we h...</td>\n",
              "    </tr>\n",
              "    <tr>\n",
              "      <th>...</th>\n",
              "      <td>...</td>\n",
              "      <td>...</td>\n",
              "    </tr>\n",
              "    <tr>\n",
              "      <th>20388</th>\n",
              "      <td>ascoeq.com</td>\n",
              "      <td>['(800) 687-0008', '(806) 372-1999', '* Fields...</td>\n",
              "    </tr>\n",
              "    <tr>\n",
              "      <th>20389</th>\n",
              "      <td>aschome.com</td>\n",
              "      <td>['(818) 833-0080', '(818) 833-0088', '- And mo...</td>\n",
              "    </tr>\n",
              "    <tr>\n",
              "      <th>20390</th>\n",
              "      <td>ascentwebportal.com</td>\n",
              "      <td>['\"I\\'m incredibly pleased that we have establ...</td>\n",
              "    </tr>\n",
              "    <tr>\n",
              "      <th>20391</th>\n",
              "      <td>ascentvp.com</td>\n",
              "      <td>['\"Ascent is a proven partner for scaling grea...</td>\n",
              "    </tr>\n",
              "    <tr>\n",
              "      <th>20392</th>\n",
              "      <td>ascentvision.com</td>\n",
              "      <td>['(AVT) specializes in gyro-stabilized imaging...</td>\n",
              "    </tr>\n",
              "  </tbody>\n",
              "</table>\n",
              "<p>20393 rows × 2 columns</p>\n",
              "</div>"
            ],
            "text/plain": [
              "                     company                                        description\n",
              "0                zzalpha.com  ['\" gives a more accurate picture: you LOST 13...\n",
              "1                 zz-tmt.com  ['1', '2', '3', '4', 'ABS', 'AS', 'About TMT',...\n",
              "2      zytekautomotive.co.uk  ['(Further information can be read on our Hist...\n",
              "3                zytek.co.uk  ['(Further information can be read on our Hist...\n",
              "4         zytecsystems.co.uk  ['\"Since the incorporation of the company we h...\n",
              "...                      ...                                                ...\n",
              "20388             ascoeq.com  ['(800) 687-0008', '(806) 372-1999', '* Fields...\n",
              "20389            aschome.com  ['(818) 833-0080', '(818) 833-0088', '- And mo...\n",
              "20390    ascentwebportal.com  ['\"I\\'m incredibly pleased that we have establ...\n",
              "20391           ascentvp.com  ['\"Ascent is a proven partner for scaling grea...\n",
              "20392       ascentvision.com  ['(AVT) specializes in gyro-stabilized imaging...\n",
              "\n",
              "[20393 rows x 2 columns]"
            ]
          },
          "metadata": {
            "tags": []
          },
          "execution_count": 27
        }
      ]
    },
    {
      "cell_type": "code",
      "metadata": {
        "scrolled": true,
        "id": "3GgyomvASySK",
        "outputId": "45378315-7590-4216-9b99-a8c36f0ed797",
        "colab": {
          "base_uri": "https://localhost:8080/"
        }
      },
      "source": [
        "df_duplicates_removed = pd.DataFrame.drop_duplicates(Workinglist1)\n",
        "print(df_duplicates_removed)"
      ],
      "execution_count": null,
      "outputs": [
        {
          "output_type": "stream",
          "text": [
            "                     company                                        description\n",
            "0                zzalpha.com  ['\" gives a more accurate picture: you LOST 13...\n",
            "2      zytekautomotive.co.uk  ['(Further information can be read on our Hist...\n",
            "3                zytek.co.uk  ['(Further information can be read on our Hist...\n",
            "4         zytecsystems.co.uk  ['\"Since the incorporation of the company we h...\n",
            "5                 zyquest.us  ['04/12/2016', '05/06/2016', '12/03/2015', '13...\n",
            "...                      ...                                                ...\n",
            "20388             ascoeq.com  ['(800) 687-0008', '(806) 372-1999', '* Fields...\n",
            "20389            aschome.com  ['(818) 833-0080', '(818) 833-0088', '- And mo...\n",
            "20390    ascentwebportal.com  ['\"I\\'m incredibly pleased that we have establ...\n",
            "20391           ascentvp.com  ['\"Ascent is a proven partner for scaling grea...\n",
            "20392       ascentvision.com  ['(AVT) specializes in gyro-stabilized imaging...\n",
            "\n",
            "[18928 rows x 2 columns]\n"
          ],
          "name": "stdout"
        }
      ]
    },
    {
      "cell_type": "code",
      "metadata": {
        "scrolled": true,
        "id": "1tDK-9x_SySS",
        "outputId": "cfee5307-be3b-43f2-af84-03b45e222267",
        "colab": {
          "base_uri": "https://localhost:8080/"
        }
      },
      "source": [
        "df_d_r=df_duplicates_removed[working_list['company'] !='zat.cz']\n",
        "df_d_r=df_d_r[working_list['company'] !='ytpals.com']\n",
        "df_d_r=df_d_r[working_list['company'] !='yuantiku.com']\n",
        "df_d_r=df_d_r[working_list['company'] !='xrspace.io']\n",
        "\n",
        "df_d_r=df_d_r[working_list['company'] !='worktecht.com']\n",
        "df_d_r.reindex"
      ],
      "execution_count": null,
      "outputs": [
        {
          "output_type": "stream",
          "text": [
            "/usr/local/lib/python3.6/dist-packages/ipykernel_launcher.py:1: UserWarning: Boolean Series key will be reindexed to match DataFrame index.\n",
            "  \"\"\"Entry point for launching an IPython kernel.\n",
            "/usr/local/lib/python3.6/dist-packages/ipykernel_launcher.py:2: UserWarning: Boolean Series key will be reindexed to match DataFrame index.\n",
            "  \n",
            "/usr/local/lib/python3.6/dist-packages/ipykernel_launcher.py:3: UserWarning: Boolean Series key will be reindexed to match DataFrame index.\n",
            "  This is separate from the ipykernel package so we can avoid doing imports until\n",
            "/usr/local/lib/python3.6/dist-packages/ipykernel_launcher.py:4: UserWarning: Boolean Series key will be reindexed to match DataFrame index.\n",
            "  after removing the cwd from sys.path.\n",
            "/usr/local/lib/python3.6/dist-packages/ipykernel_launcher.py:6: UserWarning: Boolean Series key will be reindexed to match DataFrame index.\n",
            "  \n"
          ],
          "name": "stderr"
        },
        {
          "output_type": "execute_result",
          "data": {
            "text/plain": [
              "<bound method DataFrame.reindex of                      company                                        description\n",
              "0                zzalpha.com  ['\" gives a more accurate picture: you LOST 13...\n",
              "2      zytekautomotive.co.uk  ['(Further information can be read on our Hist...\n",
              "3                zytek.co.uk  ['(Further information can be read on our Hist...\n",
              "4         zytecsystems.co.uk  ['\"Since the incorporation of the company we h...\n",
              "5                 zyquest.us  ['04/12/2016', '05/06/2016', '12/03/2015', '13...\n",
              "...                      ...                                                ...\n",
              "20388             ascoeq.com  ['(800) 687-0008', '(806) 372-1999', '* Fields...\n",
              "20389            aschome.com  ['(818) 833-0080', '(818) 833-0088', '- And mo...\n",
              "20390    ascentwebportal.com  ['\"I\\'m incredibly pleased that we have establ...\n",
              "20391           ascentvp.com  ['\"Ascent is a proven partner for scaling grea...\n",
              "20392       ascentvision.com  ['(AVT) specializes in gyro-stabilized imaging...\n",
              "\n",
              "[18928 rows x 2 columns]>"
            ]
          },
          "metadata": {
            "tags": []
          },
          "execution_count": 29
        }
      ]
    },
    {
      "cell_type": "code",
      "metadata": {
        "id": "VNvlIY2jSySV"
      },
      "source": [
        "df_d_r=df_d_r.drop([df_d_r.index[0] , df_d_r.index[1]])"
      ],
      "execution_count": null,
      "outputs": []
    },
    {
      "cell_type": "code",
      "metadata": {
        "id": "UaSyziVHSySY",
        "outputId": "607bb684-a307-4986-ae5e-e8c40f1bad06",
        "colab": {
          "base_uri": "https://localhost:8080/"
        }
      },
      "source": [
        "df_d_r.reindex"
      ],
      "execution_count": null,
      "outputs": [
        {
          "output_type": "execute_result",
          "data": {
            "text/plain": [
              "<bound method DataFrame.reindex of                    company                                        description\n",
              "3              zytek.co.uk  ['(Further information can be read on our Hist...\n",
              "4       zytecsystems.co.uk  ['\"Since the incorporation of the company we h...\n",
              "5               zyquest.us  ['04/12/2016', '05/06/2016', '12/03/2015', '13...\n",
              "6                 zypp.app  ['+91 98884890060', '1', '10 Comments', '2', '...\n",
              "7             zypmedia.com  ['(Equinix)', '1160 Battery St, Ste 235, San F...\n",
              "...                    ...                                                ...\n",
              "20388           ascoeq.com  ['(800) 687-0008', '(806) 372-1999', '* Fields...\n",
              "20389          aschome.com  ['(818) 833-0080', '(818) 833-0088', '- And mo...\n",
              "20390  ascentwebportal.com  ['\"I\\'m incredibly pleased that we have establ...\n",
              "20391         ascentvp.com  ['\"Ascent is a proven partner for scaling grea...\n",
              "20392     ascentvision.com  ['(AVT) specializes in gyro-stabilized imaging...\n",
              "\n",
              "[18926 rows x 2 columns]>"
            ]
          },
          "metadata": {
            "tags": []
          },
          "execution_count": 31
        }
      ]
    },
    {
      "cell_type": "code",
      "metadata": {
        "id": "M1aLBv5rSySa"
      },
      "source": [
        "final_ds=df_d_r['description'][4]"
      ],
      "execution_count": null,
      "outputs": []
    },
    {
      "cell_type": "code",
      "metadata": {
        "id": "gHq7MhsrOObZ",
        "outputId": "0c1b01c8-c0d0-4023-a429-4777ed2bbe39",
        "colab": {
          "base_uri": "https://localhost:8080/",
          "height": 120
        }
      },
      "source": [
        "final_ds.replace(\"/\\/\",\"\")"
      ],
      "execution_count": null,
      "outputs": [
        {
          "output_type": "execute_result",
          "data": {
            "application/vnd.google.colaboratory.intrinsic+json": {
              "type": "string"
            },
            "text/plain": [
              "'[\\'\"Since the incorporation of the company we have seen quite dramatic changes both in technology and the attitude of companies requiring remote access and support services. This sector has also called for infrastructure and security improvements that has increased the scope of our core business to include for high level languages and more integration with company IT systems. It is common for access and camera security systems to be integrated into an overall control and monitoring system with the inclusion of detailed reports for production efficiencies and traceability.\"\\', \\'\"Zytec Systems Ltd was created to provide clients with a customer focused solution to their automated electrical engineering needs. We encourage a flexible and cooperative attitude to all our engineers and require sincerity at all times.\"\\', \\'2020 Zytec Systems(UK) Ltd :\\', \\'50 Harvest Way\\', \\'A Rockwell Control Logix PLC with a Rockwell Factory Talk HMI was utilized for the control of the System. The system also included for Remote I/O on a ASI Network that communicated back to PLC via Ethernet TCPIP. The system also contained a Wifi Remote control for determination of destination of pallets to proceed directly to the warehouse/production facility or too the high level intermediate store. The double conveyor system contained a facility which enabled a reverse selection of the conveyors to allow for a line breakdown and still have the facility to transfer pallets in both directions. The system was designed to achieve a leisurely 50 pallets per hour per line, and was finally commissioned and was achieving over 60 pallets per hour. The system has now enabled the client to remove pallet trucks being driven across a main road and increased the efficiency of production material planning.\\', \\'A Siemens S7:300 PLC & HMI with local I/O modules are utilized for the control of the System. The system comprises of a common pressurized water supply from a monitored water tank with automatic top-up facilities.\\', \\'A Siemens S7:315 PLC with local/Remote I/O modules was utilized for the control of the System. There is one Profibus network connected to a Fibre-Optic link to remote I/O and remote Siemens OP77A HMI. The system controlled a Generator and eight switchgear systems to enable power restoration during mains failure. A Mains 11kV voltage is monitored and when detected as failed the switching gear operated in a preset sequence to enable the generator to start and then once running and able to accept load the switching gear was enabled.\\', \\'A leading UK Ice Cream manufacturer employed Zytec Systems ltd to develop the PLC software and commission a double Conveyor System to transport pallets carrying production materials between the warehouse and production facilities.\\', \\'A leading online supermarket employed Zytec Systems ltd to develop the PLC & HMI software and commission a warehouse extension. A Siemens S7:319 PLC with local and Remote I/O modules was utilized for the control of the System. There was two Profibus networks, connecting to the two high density system cranes and six 2-channel ASi controllers which in turn connected to remote I/O.\\', \\'About Us\\', \\'Along with these statuses the DCT PLC monitored other inputs to provide throughput data at various stages of the process. Outputs were also utilized to provide line status indication via beacons for operator problem direction. Once the system was installed on all lines, this provided detailed information to the management of production lines effectiveness, along with detailed breakdown information and timings. The system was used to increase productivity and provide detailed analysis of maintenance requirements on the packaging machines by providing the most common faults which could be interrogated and in some cases eliminated. Other benefits included a revision of production procedures which also gave better line efficiency and increased production levels.\\', \\'Arrow Valley Ltd\\', \\'As the rig was part of a Robot Cell the safety aspect was carefully designed to ensure operator and machine security. The Fluting Rig was replacing a manual fluting operation with mechanical stops which need to be adjusted prior to changing parts. The new system held a database of the different parts and once selected via the HMI, the system would automatically load the data and operate to the new dimensions. This greatly reduced the setting time and parts being produced increased by 45% with the improved automation.\\', \\'Bespoke SCADA & HMI Configuration\\', \\'By installing control systems that encompass a wide variety of new technology we have gained knowledge and expertise required to provide professional and innovative solutions to all aspects of electrical engineering. Whilst working on projects with differing industrial processes we are able to offer valued engineering solutions often not considered by our clients.\\', \\'CV10 0FJ\\', \\'Career Opportunities\\', \\'Cheltenham Racecourse employed Zytec Systems ltd to develop the PLC & HMI software and commission an automatic Power Monitoring & Generator Switching System.\\', \\'Commissioning\\', \\'Company Profile\\', \\'Consultation\\', \\'Contact\\', \\'Control Panels\\', \\'Data Concentrators on cheese production lines\\', \"Data PLC\\'s\", \\'Development of our core business allows us to offer comprehensive services to clients by providing turnkey solutions in the design and implementation of electrical control systems.\\', \\'Disclaimer\\', \\'E:\\', \\'Enter your postcode:\\', \\'F: + 44 (0) 7043 075260\\', \"For further information on any of our services please don\\'t hesitate to Contact Us.\", \\'Formed in 2003, Zytec Systems Limited is a UK based company that specialises in the design of electrical control systems, we are a progressive, innovative, customer focused company within the electrical engineering industry. We specialise in the automation and provision of electrical control systems within the industrial sector. We offer professional and comprehensive services based upon a foundation of experience. Delivering a quality service, Zytec has earned an excellent reputation for carrying out all aspects of electrical engineering and PLC/SCADA software development to a high standard and at competitive rates. The company prides itself on supply quality of workmanship enforced by meticulous design, a punctual service and support for every customer.\\', \\'Free cookie consent by cookie-script.com\\', \\'From M6\\', \\'General Enquiries\\', \\'Get Directions (Google Maps)\\', \\'Home\\', \\'How To Find Us\\', \\'I agree\\', \\'Latest News\\', \\'Leave Motorway at junction 3 (Coventry) turn onto A444 towards Nuneaton. Carry on through Nuneaton on the A444, once coming out of Nuneaton keep on the A444 and as you leave the developed area you come across newly built homes on both sides for the road. When you get to an island take the fourth exit onto Lower Farm Way, turn 3rd left and then next left and we are located on the left hand side.\\', \\'Maintenance & System Breakdown Support\\', \\'Michael Whiting - Director\\', \\'Monday, July 13, 2020 1:34:37 AM\\', \\'Nissan Cars water spray booths for vehicle integrity checks\\', \\'Nuneaton\\', \\'One Thing Control\\', \\'Our Services\\', \\'Our business has evolved with technology that has advanced over the last few decades, allowing us to provide bespoke solutions to all areas of industry. The success of Zytec is primarily based on its workforce and a firm belief that we can offer professional innovative services at competitive rates without jeopardising quality.\\', \\'Our expertise has been recognised by leading PLC, SCADA, DCS, Drives, Industrial Network and Safety System vendors. By working closely with these suppliers we ensure proven, reliable and cost effective solutions for all your automation needs.\\', \\'PLC Software Development\\', \\'Pallet System\\', \\'Pallet system to replenish production\\', \\'Partners\\', \\'Portfolio\\', \\'Postal Address\\', \\'Power control switching generator on mains failure\\', \\'Privacy & Cookies\\', \\'Privacy and Cookies\\', \\'Racecourse\\', \\'Racecourse Power\\', \\'Read more\\', \\'Services\\', \\'Servo\\', \\'Servo Control\\', \\'Servo control of fluting rig within robot cell\\', \\'Spray Booths\\', \\'Spray Booths Project\\', \\'Superior Automation Control Solutions\\', \\'System Integration Design\\', \\'Systems Engineer\\', \\'T: + 44 (0) 2476 354346\\', \\'The system comprised of two automatic cranes that stored totes containing part customer orders. The conveyor system transported the totes to the appropriate crane following manual picking of products. Upon a retrieval request the conveyor system transported the tote to the appropriate shipping lane in a predefined delivery order. This tote was then manually loaded onto a van for delivery . The system was increased to handle 3200 totes per hour to storage and providing an additional 14 shipping lanes doubling the number of vans capable of loading simultaneously.\\', \\'The two pump sets (one for high pressure tests) were driven by Siemens VSD drives on a profinet network. When a vehicle was required to be tested the operator would move it into the booth and close the roller door. The operator would then select one of the preset six tests and the control system would use PID control to maintain a water pressure at the selected booth for a given test time. As other booths are started then the PID would automatically control to maintain the pressure. Once the test time had elapsed the operator was signaled via a pulsing siren and the relevant roller door would automatically open. The new system is used to verify the water integrity of the vehicles with shower tests lasting typically 24 hours and storm tests lasting typically 1 hour.\\', \\'This website uses cookies\\', \\'This website uses cookies to improve user experience. By using our website you consent to all cookies in accordance with our Cookie Policy.\\', \\'Tuesday, August 11, 2020 3:21:03 PM\\', \\'Tuesday, August 11, 2020 3:21:09 PM\\', \\'Tuesday, August 11, 2020 3:25:29 PM\\', \\'Tuesday, August 11, 2020 3:25:34 PM\\', \\'Tuesday, August 11, 2020 3:32:00 PM\\', \\'Turnkey Solutions\\', \\'United Kingdom\\', \\'Warehouse\\', \\'Warehouse Control\\', \\'Warehouse Project\\', \\'Warehouse extension for growing dot com business\\', \\'Warwickshire\\', \\'We offer professional and comprehensive services based upon a foundation of experience.The company prides itself on supply quality of workmanship enforced by meticulous design, a punctual service and support for every customer. Below is a list of the most common services we are requested to supply:-\\', \\'We specialise in the automation and provision of electrical control systems within the industrial sector.\\', \\'Why Choose Us\\', \\'ZYTEC SYSTEMS(UK) Ltd\\', \\'Zytec Systems is a progressive, innovative, customer focused company within the electrical engineering industry.\\', \\'Zytec Systems ltd was employed to develop the PLC & HMI software, test and commission a Fluting rig for fluting the end of Torque Wrench handles. The Fluting rig was contained within a Robot Cell and interface signals was required between the robot and the Rig PLC. A Siemens S7:300 PLC with a Proface GP HMI was utilized for the control of the System. The system also included for Local I/O and a Profibus Network to the Kollmorgen Servo controller, the HMI was connected to the PLC via Ethernet TCPIP.\\', \\'Zytec Systems ltd was employed to develop the PLC & HMI software, test and commission four water spray booths.\\', \"Zytec Systems ltd was employed to develop the PLC software, test and commission nineteen data concentrator PLC\\'s for a household name supplier on their Cheese and Butter lines Each line comprised of a various number of machines to provide differing packaging solutions. The B&R X20 PLC\\'s was utilized for the monitoring of the Lines. Each PLC system monitored the various statuses of all the independent machines within the lines, and reported back to the OEE Impact System via Ethernet TCPIP\", \\'Zytec Systems prides itself on providing only the best service and support for our clients, and at very competitive rates.\\', \"Zytec Systems was incorporated in 2003 and has developed it\\'s core business as a software development company for system integration and plant control. Following successful completion of projects within many industrial sectors we have acquired knowledge to offer valued engineering.\", \\'back to top\\', \\'copyright ©\\', \\'disclaimer\\', \\'info@zytecsystems.co.uk\\', \\'read more ...\\']'"
            ]
          },
          "metadata": {
            "tags": []
          },
          "execution_count": 33
        }
      ]
    },
    {
      "cell_type": "code",
      "metadata": {
        "id": "kKkRRy9gSySe"
      },
      "source": [
        "#final_ds.to_csv('domains_description_3900.csv', columns = ['company','description'])"
      ],
      "execution_count": null,
      "outputs": []
    },
    {
      "cell_type": "code",
      "metadata": {
        "id": "Ztz_QLsEdmUg"
      },
      "source": [
        "s=\"\".join(Workinglist1['description'][4])\n",
        "def get_chunks(s, maxlength):\n",
        "    start = 0\n",
        "    end = 0\n",
        "    while start + maxlength  < len(s) and end != -1:\n",
        "        end = s.rfind(\" \", start, start + maxlength + 1)\n",
        "        yield s[start:end]\n",
        "        start = end +1\n",
        "    yield s[start:]\n",
        "\n",
        "chunks = get_chunks(s, 512)\n",
        "\n",
        "#Make list with line lengths:\n",
        "_chunk= [n for n in chunks]"
      ],
      "execution_count": null,
      "outputs": []
    },
    {
      "cell_type": "code",
      "metadata": {
        "id": "O44sEZS1dz6A",
        "outputId": "9476212b-53fa-4eed-93c4-97bc995d57d1",
        "colab": {
          "base_uri": "https://localhost:8080/"
        }
      },
      "source": [
        "_chunk"
      ],
      "execution_count": null,
      "outputs": [
        {
          "output_type": "execute_result",
          "data": {
            "text/plain": [
              "['[\\'\"Since the incorporation of the company we have seen quite dramatic changes both in technology and the attitude of companies requiring remote access and support services. This sector has also called for infrastructure and security improvements that has increased the scope of our core business to include for high level languages and more integration with company IT systems. It is common for access and camera security systems to be integrated into an overall control and monitoring system with the inclusion',\n",
              " 'of detailed reports for production efficiencies and traceability.\"\\', \\'\"Zytec Systems Ltd was created to provide clients with a customer focused solution to their automated electrical engineering needs. We encourage a flexible and cooperative attitude to all our engineers and require sincerity at all times.\"\\', \\'2020 Zytec Systems(UK) Ltd :\\', \\'50 Harvest Way\\', \\'A Rockwell Control Logix PLC with a Rockwell Factory Talk HMI was utilized for the control of the System. The system also included for Remote I/O on a',\n",
              " 'ASI Network that communicated back to PLC via Ethernet TCPIP. The system also contained a Wifi Remote control for determination of destination of pallets to proceed directly to the warehouse/production facility or too the high level intermediate store. The double conveyor system contained a facility which enabled a reverse selection of the conveyors to allow for a line breakdown and still have the facility to transfer pallets in both directions. The system was designed to achieve a leisurely 50 pallets per',\n",
              " \"hour per line, and was finally commissioned and was achieving over 60 pallets per hour. The system has now enabled the client to remove pallet trucks being driven across a main road and increased the efficiency of production material planning.', 'A Siemens S7:300 PLC & HMI with local I/O modules are utilized for the control of the System. The system comprises of a common pressurized water supply from a monitored water tank with automatic top-up facilities.', 'A Siemens S7:315 PLC with local/Remote I/O\",\n",
              " \"modules was utilized for the control of the System. There is one Profibus network connected to a Fibre-Optic link to remote I/O and remote Siemens OP77A HMI. The system controlled a Generator and eight switchgear systems to enable power restoration during mains failure. A Mains 11kV voltage is monitored and when detected as failed the switching gear operated in a preset sequence to enable the generator to start and then once running and able to accept load the switching gear was enabled.', 'A leading UK Ice\",\n",
              " \"Cream manufacturer employed Zytec Systems ltd to develop the PLC software and commission a double Conveyor System to transport pallets carrying production materials between the warehouse and production facilities.', 'A leading online supermarket employed Zytec Systems ltd to develop the PLC & HMI software and commission a warehouse extension. A Siemens S7:319 PLC with local and Remote I/O modules was utilized for the control of the System. There was two Profibus networks, connecting to the two high density\",\n",
              " \"system cranes and six 2-channel ASi controllers which in turn connected to remote I/O.', 'About Us', 'Along with these statuses the DCT PLC monitored other inputs to provide throughput data at various stages of the process. Outputs were also utilized to provide line status indication via beacons for operator problem direction. Once the system was installed on all lines, this provided detailed information to the management of production lines effectiveness, along with detailed breakdown information and\",\n",
              " \"timings. The system was used to increase productivity and provide detailed analysis of maintenance requirements on the packaging machines by providing the most common faults which could be interrogated and in some cases eliminated. Other benefits included a revision of production procedures which also gave better line efficiency and increased production levels.', 'Arrow Valley Ltd', 'As the rig was part of a Robot Cell the safety aspect was carefully designed to ensure operator and machine security. The\",\n",
              " \"Fluting Rig was replacing a manual fluting operation with mechanical stops which need to be adjusted prior to changing parts. The new system held a database of the different parts and once selected via the HMI, the system would automatically load the data and operate to the new dimensions. This greatly reduced the setting time and parts being produced increased by 45% with the improved automation.', 'Bespoke SCADA & HMI Configuration', 'By installing control systems that encompass a wide variety of new\",\n",
              " \"technology we have gained knowledge and expertise required to provide professional and innovative solutions to all aspects of electrical engineering. Whilst working on projects with differing industrial processes we are able to offer valued engineering solutions often not considered by our clients.', 'CV10 0FJ', 'Career Opportunities', 'Cheltenham Racecourse employed Zytec Systems ltd to develop the PLC & HMI software and commission an automatic Power Monitoring & Generator Switching System.',\",\n",
              " '\\'Commissioning\\', \\'Company Profile\\', \\'Consultation\\', \\'Contact\\', \\'Control Panels\\', \\'Data Concentrators on cheese production lines\\', \"Data PLC\\'s\", \\'Development of our core business allows us to offer comprehensive services to clients by providing turnkey solutions in the design and implementation of electrical control systems.\\', \\'Disclaimer\\', \\'E:\\', \\'Enter your postcode:\\', \\'F: + 44 (0) 7043 075260\\', \"For further information on any of our services please don\\'t hesitate to Contact Us.\", \\'Formed in 2003, Zytec',\n",
              " 'Systems Limited is a UK based company that specialises in the design of electrical control systems, we are a progressive, innovative, customer focused company within the electrical engineering industry. We specialise in the automation and provision of electrical control systems within the industrial sector. We offer professional and comprehensive services based upon a foundation of experience. Delivering a quality service, Zytec has earned an excellent reputation for carrying out all aspects of electrical',\n",
              " \"engineering and PLC/SCADA software development to a high standard and at competitive rates. The company prides itself on supply quality of workmanship enforced by meticulous design, a punctual service and support for every customer.', 'Free cookie consent by cookie-script.com', 'From M6', 'General Enquiries', 'Get Directions (Google Maps)', 'Home', 'How To Find Us', 'I agree', 'Latest News', 'Leave Motorway at junction 3 (Coventry) turn onto A444 towards Nuneaton. Carry on through Nuneaton on the A444, once\",\n",
              " \"coming out of Nuneaton keep on the A444 and as you leave the developed area you come across newly built homes on both sides for the road. When you get to an island take the fourth exit onto Lower Farm Way, turn 3rd left and then next left and we are located on the left hand side.', 'Maintenance & System Breakdown Support', 'Michael Whiting - Director', 'Monday, July 13, 2020 1:34:37 AM', 'Nissan Cars water spray booths for vehicle integrity checks', 'Nuneaton', 'One Thing Control', 'Our Services', 'Our\",\n",
              " \"business has evolved with technology that has advanced over the last few decades, allowing us to provide bespoke solutions to all areas of industry. The success of Zytec is primarily based on its workforce and a firm belief that we can offer professional innovative services at competitive rates without jeopardising quality.', 'Our expertise has been recognised by leading PLC, SCADA, DCS, Drives, Industrial Network and Safety System vendors. By working closely with these suppliers we ensure proven, reliable\",\n",
              " \"and cost effective solutions for all your automation needs.', 'PLC Software Development', 'Pallet System', 'Pallet system to replenish production', 'Partners', 'Portfolio', 'Postal Address', 'Power control switching generator on mains failure', 'Privacy & Cookies', 'Privacy and Cookies', 'Racecourse', 'Racecourse Power', 'Read more', 'Services', 'Servo', 'Servo Control', 'Servo control of fluting rig within robot cell', 'Spray Booths', 'Spray Booths Project', 'Superior Automation Control Solutions', 'System\",\n",
              " \"Integration Design', 'Systems Engineer', 'T: + 44 (0) 2476 354346', 'The system comprised of two automatic cranes that stored totes containing part customer orders. The conveyor system transported the totes to the appropriate crane following manual picking of products. Upon a retrieval request the conveyor system transported the tote to the appropriate shipping lane in a predefined delivery order. This tote was then manually loaded onto a van for delivery . The system was increased to handle 3200 totes per\",\n",
              " \"hour to storage and providing an additional 14 shipping lanes doubling the number of vans capable of loading simultaneously.', 'The two pump sets (one for high pressure tests) were driven by Siemens VSD drives on a profinet network. When a vehicle was required to be tested the operator would move it into the booth and close the roller door. The operator would then select one of the preset six tests and the control system would use PID control to maintain a water pressure at the selected booth for a given\",\n",
              " \"test time. As other booths are started then the PID would automatically control to maintain the pressure. Once the test time had elapsed the operator was signaled via a pulsing siren and the relevant roller door would automatically open. The new system is used to verify the water integrity of the vehicles with shower tests lasting typically 24 hours and storm tests lasting typically 1 hour.', 'This website uses cookies', 'This website uses cookies to improve user experience. By using our website you consent\",\n",
              " \"to all cookies in accordance with our Cookie Policy.', 'Tuesday, August 11, 2020 3:21:03 PM', 'Tuesday, August 11, 2020 3:21:09 PM', 'Tuesday, August 11, 2020 3:25:29 PM', 'Tuesday, August 11, 2020 3:25:34 PM', 'Tuesday, August 11, 2020 3:32:00 PM', 'Turnkey Solutions', 'United Kingdom', 'Warehouse', 'Warehouse Control', 'Warehouse Project', 'Warehouse extension for growing dot com business', 'Warwickshire', 'We offer professional and comprehensive services based upon a foundation of experience.The company\",\n",
              " \"prides itself on supply quality of workmanship enforced by meticulous design, a punctual service and support for every customer. Below is a list of the most common services we are requested to supply:-', 'We specialise in the automation and provision of electrical control systems within the industrial sector.', 'Why Choose Us', 'ZYTEC SYSTEMS(UK) Ltd', 'Zytec Systems is a progressive, innovative, customer focused company within the electrical engineering industry.', 'Zytec Systems ltd was employed to\",\n",
              " \"develop the PLC & HMI software, test and commission a Fluting rig for fluting the end of Torque Wrench handles. The Fluting rig was contained within a Robot Cell and interface signals was required between the robot and the Rig PLC. A Siemens S7:300 PLC with a Proface GP HMI was utilized for the control of the System. The system also included for Local I/O and a Profibus Network to the Kollmorgen Servo controller, the HMI was connected to the PLC via Ethernet TCPIP.', 'Zytec Systems ltd was employed to\",\n",
              " 'develop the PLC & HMI software, test and commission four water spray booths.\\', \"Zytec Systems ltd was employed to develop the PLC software, test and commission nineteen data concentrator PLC\\'s for a household name supplier on their Cheese and Butter lines Each line comprised of a various number of machines to provide differing packaging solutions. The B&R X20 PLC\\'s was utilized for the monitoring of the Lines. Each PLC system monitored the various statuses of all the independent machines within the lines,',\n",
              " 'and reported back to the OEE Impact System via Ethernet TCPIP\", \\'Zytec Systems prides itself on providing only the best service and support for our clients, and at very competitive rates.\\', \"Zytec Systems was incorporated in 2003 and has developed it\\'s core business as a software development company for system integration and plant control. Following successful completion of projects within many industrial sectors we have acquired knowledge to offer valued engineering.\", \\'back to top\\', \\'copyright ©\\',',\n",
              " \"'disclaimer', 'info@zytecsystems.co.uk', 'read more ...']\"]"
            ]
          },
          "metadata": {
            "tags": []
          },
          "execution_count": 35
        }
      ]
    },
    {
      "cell_type": "code",
      "metadata": {
        "id": "JqWtoWbyeJXK",
        "outputId": "dc27e1a0-d6de-461a-e3bf-e6fb2be4d980",
        "colab": {
          "base_uri": "https://localhost:8080/"
        }
      },
      "source": [
        "sample_doc = _chunk\n",
        "#print(sample_doc)\n",
        "for i in sample_doc:\n",
        " # print(\"new\")\n",
        "  print(i)\n",
        "  print(len(i))\n",
        "  embeddings = model.encode(i)\n",
        "  print(embeddings.shape)\n",
        "\n",
        "#embeddings = model.encode(sample_doc)\n",
        "#print(embeddings.shape)"
      ],
      "execution_count": null,
      "outputs": [
        {
          "output_type": "stream",
          "text": [
            "['\"Since the incorporation of the company we have seen quite dramatic changes both in technology and the attitude of companies requiring remote access and support services. This sector has also called for infrastructure and security improvements that has increased the scope of our core business to include for high level languages and more integration with company IT systems. It is common for access and camera security systems to be integrated into an overall control and monitoring system with the inclusion\n",
            "511\n",
            "(768,)\n",
            "of detailed reports for production efficiencies and traceability.\"', '\"Zytec Systems Ltd was created to provide clients with a customer focused solution to their automated electrical engineering needs. We encourage a flexible and cooperative attitude to all our engineers and require sincerity at all times.\"', '2020 Zytec Systems(UK) Ltd :', '50 Harvest Way', 'A Rockwell Control Logix PLC with a Rockwell Factory Talk HMI was utilized for the control of the System. The system also included for Remote I/O on a\n",
            "512\n",
            "(768,)\n",
            "ASI Network that communicated back to PLC via Ethernet TCPIP. The system also contained a Wifi Remote control for determination of destination of pallets to proceed directly to the warehouse/production facility or too the high level intermediate store. The double conveyor system contained a facility which enabled a reverse selection of the conveyors to allow for a line breakdown and still have the facility to transfer pallets in both directions. The system was designed to achieve a leisurely 50 pallets per\n",
            "511\n",
            "(768,)\n",
            "hour per line, and was finally commissioned and was achieving over 60 pallets per hour. The system has now enabled the client to remove pallet trucks being driven across a main road and increased the efficiency of production material planning.', 'A Siemens S7:300 PLC & HMI with local I/O modules are utilized for the control of the System. The system comprises of a common pressurized water supply from a monitored water tank with automatic top-up facilities.', 'A Siemens S7:315 PLC with local/Remote I/O\n",
            "506\n",
            "(768,)\n",
            "modules was utilized for the control of the System. There is one Profibus network connected to a Fibre-Optic link to remote I/O and remote Siemens OP77A HMI. The system controlled a Generator and eight switchgear systems to enable power restoration during mains failure. A Mains 11kV voltage is monitored and when detected as failed the switching gear operated in a preset sequence to enable the generator to start and then once running and able to accept load the switching gear was enabled.', 'A leading UK Ice\n",
            "512\n",
            "(768,)\n",
            "Cream manufacturer employed Zytec Systems ltd to develop the PLC software and commission a double Conveyor System to transport pallets carrying production materials between the warehouse and production facilities.', 'A leading online supermarket employed Zytec Systems ltd to develop the PLC & HMI software and commission a warehouse extension. A Siemens S7:319 PLC with local and Remote I/O modules was utilized for the control of the System. There was two Profibus networks, connecting to the two high density\n",
            "511\n",
            "(768,)\n",
            "system cranes and six 2-channel ASi controllers which in turn connected to remote I/O.', 'About Us', 'Along with these statuses the DCT PLC monitored other inputs to provide throughput data at various stages of the process. Outputs were also utilized to provide line status indication via beacons for operator problem direction. Once the system was installed on all lines, this provided detailed information to the management of production lines effectiveness, along with detailed breakdown information and\n",
            "506\n",
            "(768,)\n",
            "timings. The system was used to increase productivity and provide detailed analysis of maintenance requirements on the packaging machines by providing the most common faults which could be interrogated and in some cases eliminated. Other benefits included a revision of production procedures which also gave better line efficiency and increased production levels.', 'Arrow Valley Ltd', 'As the rig was part of a Robot Cell the safety aspect was carefully designed to ensure operator and machine security. The\n",
            "508\n",
            "(768,)\n",
            "Fluting Rig was replacing a manual fluting operation with mechanical stops which need to be adjusted prior to changing parts. The new system held a database of the different parts and once selected via the HMI, the system would automatically load the data and operate to the new dimensions. This greatly reduced the setting time and parts being produced increased by 45% with the improved automation.', 'Bespoke SCADA & HMI Configuration', 'By installing control systems that encompass a wide variety of new\n",
            "507\n",
            "(768,)\n",
            "technology we have gained knowledge and expertise required to provide professional and innovative solutions to all aspects of electrical engineering. Whilst working on projects with differing industrial processes we are able to offer valued engineering solutions often not considered by our clients.', 'CV10 0FJ', 'Career Opportunities', 'Cheltenham Racecourse employed Zytec Systems ltd to develop the PLC & HMI software and commission an automatic Power Monitoring & Generator Switching System.',\n",
            "498\n",
            "(768,)\n",
            "'Commissioning', 'Company Profile', 'Consultation', 'Contact', 'Control Panels', 'Data Concentrators on cheese production lines', \"Data PLC's\", 'Development of our core business allows us to offer comprehensive services to clients by providing turnkey solutions in the design and implementation of electrical control systems.', 'Disclaimer', 'E:', 'Enter your postcode:', 'F: + 44 (0) 7043 075260', \"For further information on any of our services please don't hesitate to Contact Us.\", 'Formed in 2003, Zytec\n",
            "508\n",
            "(768,)\n",
            "Systems Limited is a UK based company that specialises in the design of electrical control systems, we are a progressive, innovative, customer focused company within the electrical engineering industry. We specialise in the automation and provision of electrical control systems within the industrial sector. We offer professional and comprehensive services based upon a foundation of experience. Delivering a quality service, Zytec has earned an excellent reputation for carrying out all aspects of electrical\n",
            "510\n",
            "(768,)\n",
            "engineering and PLC/SCADA software development to a high standard and at competitive rates. The company prides itself on supply quality of workmanship enforced by meticulous design, a punctual service and support for every customer.', 'Free cookie consent by cookie-script.com', 'From M6', 'General Enquiries', 'Get Directions (Google Maps)', 'Home', 'How To Find Us', 'I agree', 'Latest News', 'Leave Motorway at junction 3 (Coventry) turn onto A444 towards Nuneaton. Carry on through Nuneaton on the A444, once\n",
            "512\n",
            "(768,)\n",
            "coming out of Nuneaton keep on the A444 and as you leave the developed area you come across newly built homes on both sides for the road. When you get to an island take the fourth exit onto Lower Farm Way, turn 3rd left and then next left and we are located on the left hand side.', 'Maintenance & System Breakdown Support', 'Michael Whiting - Director', 'Monday, July 13, 2020 1:34:37 AM', 'Nissan Cars water spray booths for vehicle integrity checks', 'Nuneaton', 'One Thing Control', 'Our Services', 'Our\n",
            "507\n",
            "(768,)\n",
            "business has evolved with technology that has advanced over the last few decades, allowing us to provide bespoke solutions to all areas of industry. The success of Zytec is primarily based on its workforce and a firm belief that we can offer professional innovative services at competitive rates without jeopardising quality.', 'Our expertise has been recognised by leading PLC, SCADA, DCS, Drives, Industrial Network and Safety System vendors. By working closely with these suppliers we ensure proven, reliable\n",
            "511\n",
            "(768,)\n",
            "and cost effective solutions for all your automation needs.', 'PLC Software Development', 'Pallet System', 'Pallet system to replenish production', 'Partners', 'Portfolio', 'Postal Address', 'Power control switching generator on mains failure', 'Privacy & Cookies', 'Privacy and Cookies', 'Racecourse', 'Racecourse Power', 'Read more', 'Services', 'Servo', 'Servo Control', 'Servo control of fluting rig within robot cell', 'Spray Booths', 'Spray Booths Project', 'Superior Automation Control Solutions', 'System\n",
            "512\n",
            "(768,)\n",
            "Integration Design', 'Systems Engineer', 'T: + 44 (0) 2476 354346', 'The system comprised of two automatic cranes that stored totes containing part customer orders. The conveyor system transported the totes to the appropriate crane following manual picking of products. Upon a retrieval request the conveyor system transported the tote to the appropriate shipping lane in a predefined delivery order. This tote was then manually loaded onto a van for delivery . The system was increased to handle 3200 totes per\n",
            "511\n",
            "(768,)\n",
            "hour to storage and providing an additional 14 shipping lanes doubling the number of vans capable of loading simultaneously.', 'The two pump sets (one for high pressure tests) were driven by Siemens VSD drives on a profinet network. When a vehicle was required to be tested the operator would move it into the booth and close the roller door. The operator would then select one of the preset six tests and the control system would use PID control to maintain a water pressure at the selected booth for a given\n",
            "509\n",
            "(768,)\n",
            "test time. As other booths are started then the PID would automatically control to maintain the pressure. Once the test time had elapsed the operator was signaled via a pulsing siren and the relevant roller door would automatically open. The new system is used to verify the water integrity of the vehicles with shower tests lasting typically 24 hours and storm tests lasting typically 1 hour.', 'This website uses cookies', 'This website uses cookies to improve user experience. By using our website you consent\n",
            "512\n",
            "(768,)\n",
            "to all cookies in accordance with our Cookie Policy.', 'Tuesday, August 11, 2020 3:21:03 PM', 'Tuesday, August 11, 2020 3:21:09 PM', 'Tuesday, August 11, 2020 3:25:29 PM', 'Tuesday, August 11, 2020 3:25:34 PM', 'Tuesday, August 11, 2020 3:32:00 PM', 'Turnkey Solutions', 'United Kingdom', 'Warehouse', 'Warehouse Control', 'Warehouse Project', 'Warehouse extension for growing dot com business', 'Warwickshire', 'We offer professional and comprehensive services based upon a foundation of experience.The company\n",
            "511\n",
            "(768,)\n",
            "prides itself on supply quality of workmanship enforced by meticulous design, a punctual service and support for every customer. Below is a list of the most common services we are requested to supply:-', 'We specialise in the automation and provision of electrical control systems within the industrial sector.', 'Why Choose Us', 'ZYTEC SYSTEMS(UK) Ltd', 'Zytec Systems is a progressive, innovative, customer focused company within the electrical engineering industry.', 'Zytec Systems ltd was employed to\n",
            "505\n",
            "(768,)\n",
            "develop the PLC & HMI software, test and commission a Fluting rig for fluting the end of Torque Wrench handles. The Fluting rig was contained within a Robot Cell and interface signals was required between the robot and the Rig PLC. A Siemens S7:300 PLC with a Proface GP HMI was utilized for the control of the System. The system also included for Local I/O and a Profibus Network to the Kollmorgen Servo controller, the HMI was connected to the PLC via Ethernet TCPIP.', 'Zytec Systems ltd was employed to\n",
            "506\n",
            "(768,)\n",
            "develop the PLC & HMI software, test and commission four water spray booths.', \"Zytec Systems ltd was employed to develop the PLC software, test and commission nineteen data concentrator PLC's for a household name supplier on their Cheese and Butter lines Each line comprised of a various number of machines to provide differing packaging solutions. The B&R X20 PLC's was utilized for the monitoring of the Lines. Each PLC system monitored the various statuses of all the independent machines within the lines,\n",
            "510\n",
            "(768,)\n",
            "and reported back to the OEE Impact System via Ethernet TCPIP\", 'Zytec Systems prides itself on providing only the best service and support for our clients, and at very competitive rates.', \"Zytec Systems was incorporated in 2003 and has developed it's core business as a software development company for system integration and plant control. Following successful completion of projects within many industrial sectors we have acquired knowledge to offer valued engineering.\", 'back to top', 'copyright ©',\n",
            "505\n",
            "(768,)\n",
            "'disclaimer', 'info@zytecsystems.co.uk', 'read more ...']\n",
            "57\n",
            "(768,)\n"
          ],
          "name": "stdout"
        }
      ]
    },
    {
      "cell_type": "code",
      "metadata": {
        "scrolled": true,
        "id": "5f_9iv0-SySl"
      },
      "source": [
        "#sample_doc = Workinglist1['description'][10]\n",
        "#print(sample_doc)\n",
        "#embeddings = model.encode([sample_doc])\n",
        "#print(embeddings)"
      ],
      "execution_count": null,
      "outputs": []
    },
    {
      "cell_type": "code",
      "metadata": {
        "scrolled": true,
        "id": "IHT85GCuSySo"
      },
      "source": [
        "#sample_doc = Workinglist1['description'][20]\n",
        "#print(sample_doc)\n",
        "#embeddings =sentence_auto([sample_doc])\n",
        "#print(embeddings)"
      ],
      "execution_count": null,
      "outputs": []
    },
    {
      "cell_type": "code",
      "metadata": {
        "id": "BInSdbEtSySs"
      },
      "source": [
        "#indexautobert =start_auto_91(3900 indexed documents),start_auto_19 (2600 indexed documents)\n",
        "ES_INDEX_NAME = \"start_auto_19\"\n",
        "ES_INDEX_FILE = \"gdrive/My Drive/BERT_Task/articles_index.json\"\n",
        "\n",
        "BATCH_SIZE = 40\n",
        "SEARCH_SIZE = 100"
      ],
      "execution_count": null,
      "outputs": []
    },
    {
      "cell_type": "code",
      "metadata": {
        "id": "r_1RWCgMSySu"
      },
      "source": [
        "## Function to embed text\n",
        "def embed_text(text):\n",
        "    vectors = model.encode(text)\n",
        "    return [vector.tolist() for vector in vectors]"
      ],
      "execution_count": null,
      "outputs": []
    },
    {
      "cell_type": "code",
      "metadata": {
        "id": "yB1mM638SySx"
      },
      "source": [
        "#Mean Pooling - Take attention mask into account for correct averaging\n",
        "def mean_pooling(model_output, attention_mask):\n",
        "    token_embeddings = model_output[0] #First element of model_output contains all token embeddings\n",
        "    input_mask_expanded = attention_mask.unsqueeze(-1).expand(token_embeddings.size()).float()\n",
        "    sum_embeddings = torch.sum(token_embeddings * input_mask_expanded, 1)\n",
        "    sum_mask = torch.clamp(input_mask_expanded.sum(1), min=1e-9)\n",
        "    return sum_embeddings / sum_mask"
      ],
      "execution_count": null,
      "outputs": []
    },
    {
      "cell_type": "code",
      "metadata": {
        "id": "rzlV9us2SyS0"
      },
      "source": [
        "def sentence_auto(sentences):\n",
        "#Load AutoModel from huggingface model repository\n",
        "    tokenizer = AutoTokenizer.from_pretrained(\"sentence-transformers/bert-base-nli-mean-tokens\")\n",
        "    model = AutoModel.from_pretrained(\"sentence-transformers/bert-base-nli-mean-tokens\")\n",
        "\n",
        "#Tokenize sentences\n",
        "    encoded_input = tokenizer(sentences, padding=True, truncation=True, max_length=128, return_tensors='pt')\n",
        "\n",
        "#Compute token embeddings\n",
        "    with torch.no_grad():\n",
        "        model_output = model(**encoded_input)\n",
        "\n",
        "#Perform pooling. In this case, mean pooling\n",
        "    sentence_embeddings = mean_pooling(model_output, encoded_input['attention_mask'])    \n",
        "    return [vector.tolist() for vector in sentence_embeddings]"
      ],
      "execution_count": null,
      "outputs": []
    },
    {
      "cell_type": "code",
      "metadata": {
        "id": "lhfOOdEaSyS4"
      },
      "source": [
        "def index_batch(docs):\n",
        "    print(docs)\n",
        "    description = [doc for doc in docs]\n",
        "    description_vectors = embed_text(description)\n",
        "    #print(description_vectors)\n",
        "    requests = []\n",
        "    for i, doc in enumerate(docs):\n",
        "        print(doc)\n",
        "        request = \"doc\"\n",
        "        request[\"_op_type\"] = \"index\"\n",
        "        request[\"_index\"] = ES_INDEX_NAME\n",
        "        request[\"description_vector\"] = description_vectors[i]\n",
        "        #request[\"description_vector\"]=[1.0,1.0]\n",
        "        requests.append(request)\n",
        "        print(requests)\n",
        "    helpers.bulk(es, requests)"
      ],
      "execution_count": null,
      "outputs": []
    },
    {
      "cell_type": "code",
      "metadata": {
        "id": "dOqKLH0ASyS7"
      },
      "source": [
        "## index data in batches\n",
        "def index_data(description):\n",
        "   \n",
        "    with open(ES_INDEX_FILE) as index_file:\n",
        "        source = index_file.read().strip()\n",
        "        es.indices.create(index=ES_INDEX_NAME, body=source,request_timeout=900)\n",
        "    \n",
        "    docs = []\n",
        "    count = 0\n",
        "\n",
        "    for line in description:\n",
        "        #print (line)\n",
        "        #doc = json.loads(line)\n",
        "        docs.append(line)\n",
        "        count += 1\n",
        "\n",
        "        if count % BATCH_SIZE == 0:\n",
        "            index_batch(docs)\n",
        "            docs = []\n",
        "            print(\"Indexed {} documents.\".format(count))\n",
        "            \n",
        "    if docs:\n",
        "        index_batch(docs)\n",
        "        print(\"Indexed {} documents.\".format(count))\n",
        "\n",
        "    es.indices.refresh(index=\"ES_INDEX_NAME\")\n",
        "    print(\"Done indexing.\")"
      ],
      "execution_count": null,
      "outputs": []
    },
    {
      "cell_type": "code",
      "metadata": {
        "id": "Sz_XfZIUYLLP",
        "outputId": "fa28f2ae-b982-4f44-9e2e-c26a6b943949",
        "colab": {
          "base_uri": "https://localhost:8080/",
          "height": 844
        }
      },
      "source": [
        "#sample_doc = _chunk\n",
        "description = [print(doc) for doc in _chunk]\n",
        "desc_vectors=[]\n",
        "for doc in _chunk:\n",
        "  #description.remove(None)\n",
        "  description_vectors = sentence_auto(doc)\n",
        "  print(description_vectors)\n",
        "  print(len(description_vectors))\n",
        "  desc_vectors.append(description_vectors)\n",
        "  desc_vectors"
      ],
      "execution_count": null,
      "outputs": [
        {
          "output_type": "stream",
          "text": [
            "['\"Since the incorporation of the company we have seen quite dramatic changes both in technology and the attitude of companies requiring remote access and support services. This sector has also called for infrastructure and security improvements that has increased the scope of our core business to include for high level languages and more integration with company IT systems. It is common for access and camera security systems to be integrated into an overall control and monitoring system with the inclusion\n",
            "of detailed reports for production efficiencies and traceability.\"', '\"Zytec Systems Ltd was created to provide clients with a customer focused solution to their automated electrical engineering needs. We encourage a flexible and cooperative attitude to all our engineers and require sincerity at all times.\"', '2020 Zytec Systems(UK) Ltd :', '50 Harvest Way', 'A Rockwell Control Logix PLC with a Rockwell Factory Talk HMI was utilized for the control of the System. The system also included for Remote I/O on a\n",
            "ASI Network that communicated back to PLC via Ethernet TCPIP. The system also contained a Wifi Remote control for determination of destination of pallets to proceed directly to the warehouse/production facility or too the high level intermediate store. The double conveyor system contained a facility which enabled a reverse selection of the conveyors to allow for a line breakdown and still have the facility to transfer pallets in both directions. The system was designed to achieve a leisurely 50 pallets per\n",
            "hour per line, and was finally commissioned and was achieving over 60 pallets per hour. The system has now enabled the client to remove pallet trucks being driven across a main road and increased the efficiency of production material planning.', 'A Siemens S7:300 PLC & HMI with local I/O modules are utilized for the control of the System. The system comprises of a common pressurized water supply from a monitored water tank with automatic top-up facilities.', 'A Siemens S7:315 PLC with local/Remote I/O\n",
            "modules was utilized for the control of the System. There is one Profibus network connected to a Fibre-Optic link to remote I/O and remote Siemens OP77A HMI. The system controlled a Generator and eight switchgear systems to enable power restoration during mains failure. A Mains 11kV voltage is monitored and when detected as failed the switching gear operated in a preset sequence to enable the generator to start and then once running and able to accept load the switching gear was enabled.', 'A leading UK Ice\n",
            "Cream manufacturer employed Zytec Systems ltd to develop the PLC software and commission a double Conveyor System to transport pallets carrying production materials between the warehouse and production facilities.', 'A leading online supermarket employed Zytec Systems ltd to develop the PLC & HMI software and commission a warehouse extension. A Siemens S7:319 PLC with local and Remote I/O modules was utilized for the control of the System. There was two Profibus networks, connecting to the two high density\n",
            "system cranes and six 2-channel ASi controllers which in turn connected to remote I/O.', 'About Us', 'Along with these statuses the DCT PLC monitored other inputs to provide throughput data at various stages of the process. Outputs were also utilized to provide line status indication via beacons for operator problem direction. Once the system was installed on all lines, this provided detailed information to the management of production lines effectiveness, along with detailed breakdown information and\n",
            "timings. The system was used to increase productivity and provide detailed analysis of maintenance requirements on the packaging machines by providing the most common faults which could be interrogated and in some cases eliminated. Other benefits included a revision of production procedures which also gave better line efficiency and increased production levels.', 'Arrow Valley Ltd', 'As the rig was part of a Robot Cell the safety aspect was carefully designed to ensure operator and machine security. The\n",
            "Fluting Rig was replacing a manual fluting operation with mechanical stops which need to be adjusted prior to changing parts. The new system held a database of the different parts and once selected via the HMI, the system would automatically load the data and operate to the new dimensions. This greatly reduced the setting time and parts being produced increased by 45% with the improved automation.', 'Bespoke SCADA & HMI Configuration', 'By installing control systems that encompass a wide variety of new\n",
            "technology we have gained knowledge and expertise required to provide professional and innovative solutions to all aspects of electrical engineering. Whilst working on projects with differing industrial processes we are able to offer valued engineering solutions often not considered by our clients.', 'CV10 0FJ', 'Career Opportunities', 'Cheltenham Racecourse employed Zytec Systems ltd to develop the PLC & HMI software and commission an automatic Power Monitoring & Generator Switching System.',\n",
            "'Commissioning', 'Company Profile', 'Consultation', 'Contact', 'Control Panels', 'Data Concentrators on cheese production lines', \"Data PLC's\", 'Development of our core business allows us to offer comprehensive services to clients by providing turnkey solutions in the design and implementation of electrical control systems.', 'Disclaimer', 'E:', 'Enter your postcode:', 'F: + 44 (0) 7043 075260', \"For further information on any of our services please don't hesitate to Contact Us.\", 'Formed in 2003, Zytec\n",
            "Systems Limited is a UK based company that specialises in the design of electrical control systems, we are a progressive, innovative, customer focused company within the electrical engineering industry. We specialise in the automation and provision of electrical control systems within the industrial sector. We offer professional and comprehensive services based upon a foundation of experience. Delivering a quality service, Zytec has earned an excellent reputation for carrying out all aspects of electrical\n",
            "engineering and PLC/SCADA software development to a high standard and at competitive rates. The company prides itself on supply quality of workmanship enforced by meticulous design, a punctual service and support for every customer.', 'Free cookie consent by cookie-script.com', 'From M6', 'General Enquiries', 'Get Directions (Google Maps)', 'Home', 'How To Find Us', 'I agree', 'Latest News', 'Leave Motorway at junction 3 (Coventry) turn onto A444 towards Nuneaton. Carry on through Nuneaton on the A444, once\n",
            "coming out of Nuneaton keep on the A444 and as you leave the developed area you come across newly built homes on both sides for the road. When you get to an island take the fourth exit onto Lower Farm Way, turn 3rd left and then next left and we are located on the left hand side.', 'Maintenance & System Breakdown Support', 'Michael Whiting - Director', 'Monday, July 13, 2020 1:34:37 AM', 'Nissan Cars water spray booths for vehicle integrity checks', 'Nuneaton', 'One Thing Control', 'Our Services', 'Our\n",
            "business has evolved with technology that has advanced over the last few decades, allowing us to provide bespoke solutions to all areas of industry. The success of Zytec is primarily based on its workforce and a firm belief that we can offer professional innovative services at competitive rates without jeopardising quality.', 'Our expertise has been recognised by leading PLC, SCADA, DCS, Drives, Industrial Network and Safety System vendors. By working closely with these suppliers we ensure proven, reliable\n",
            "and cost effective solutions for all your automation needs.', 'PLC Software Development', 'Pallet System', 'Pallet system to replenish production', 'Partners', 'Portfolio', 'Postal Address', 'Power control switching generator on mains failure', 'Privacy & Cookies', 'Privacy and Cookies', 'Racecourse', 'Racecourse Power', 'Read more', 'Services', 'Servo', 'Servo Control', 'Servo control of fluting rig within robot cell', 'Spray Booths', 'Spray Booths Project', 'Superior Automation Control Solutions', 'System\n",
            "Integration Design', 'Systems Engineer', 'T: + 44 (0) 2476 354346', 'The system comprised of two automatic cranes that stored totes containing part customer orders. The conveyor system transported the totes to the appropriate crane following manual picking of products. Upon a retrieval request the conveyor system transported the tote to the appropriate shipping lane in a predefined delivery order. This tote was then manually loaded onto a van for delivery . The system was increased to handle 3200 totes per\n",
            "hour to storage and providing an additional 14 shipping lanes doubling the number of vans capable of loading simultaneously.', 'The two pump sets (one for high pressure tests) were driven by Siemens VSD drives on a profinet network. When a vehicle was required to be tested the operator would move it into the booth and close the roller door. The operator would then select one of the preset six tests and the control system would use PID control to maintain a water pressure at the selected booth for a given\n",
            "test time. As other booths are started then the PID would automatically control to maintain the pressure. Once the test time had elapsed the operator was signaled via a pulsing siren and the relevant roller door would automatically open. The new system is used to verify the water integrity of the vehicles with shower tests lasting typically 24 hours and storm tests lasting typically 1 hour.', 'This website uses cookies', 'This website uses cookies to improve user experience. By using our website you consent\n",
            "to all cookies in accordance with our Cookie Policy.', 'Tuesday, August 11, 2020 3:21:03 PM', 'Tuesday, August 11, 2020 3:21:09 PM', 'Tuesday, August 11, 2020 3:25:29 PM', 'Tuesday, August 11, 2020 3:25:34 PM', 'Tuesday, August 11, 2020 3:32:00 PM', 'Turnkey Solutions', 'United Kingdom', 'Warehouse', 'Warehouse Control', 'Warehouse Project', 'Warehouse extension for growing dot com business', 'Warwickshire', 'We offer professional and comprehensive services based upon a foundation of experience.The company\n",
            "prides itself on supply quality of workmanship enforced by meticulous design, a punctual service and support for every customer. Below is a list of the most common services we are requested to supply:-', 'We specialise in the automation and provision of electrical control systems within the industrial sector.', 'Why Choose Us', 'ZYTEC SYSTEMS(UK) Ltd', 'Zytec Systems is a progressive, innovative, customer focused company within the electrical engineering industry.', 'Zytec Systems ltd was employed to\n",
            "develop the PLC & HMI software, test and commission a Fluting rig for fluting the end of Torque Wrench handles. The Fluting rig was contained within a Robot Cell and interface signals was required between the robot and the Rig PLC. A Siemens S7:300 PLC with a Proface GP HMI was utilized for the control of the System. The system also included for Local I/O and a Profibus Network to the Kollmorgen Servo controller, the HMI was connected to the PLC via Ethernet TCPIP.', 'Zytec Systems ltd was employed to\n",
            "develop the PLC & HMI software, test and commission four water spray booths.', \"Zytec Systems ltd was employed to develop the PLC software, test and commission nineteen data concentrator PLC's for a household name supplier on their Cheese and Butter lines Each line comprised of a various number of machines to provide differing packaging solutions. The B&R X20 PLC's was utilized for the monitoring of the Lines. Each PLC system monitored the various statuses of all the independent machines within the lines,\n",
            "and reported back to the OEE Impact System via Ethernet TCPIP\", 'Zytec Systems prides itself on providing only the best service and support for our clients, and at very competitive rates.', \"Zytec Systems was incorporated in 2003 and has developed it's core business as a software development company for system integration and plant control. Following successful completion of projects within many industrial sectors we have acquired knowledge to offer valued engineering.\", 'back to top', 'copyright ©',\n",
            "'disclaimer', 'info@zytecsystems.co.uk', 'read more ...']\n",
            "[[-0.2649685740470886, 0.49683573842048645, 0.9582141637802124, -0.2019328474998474, 0.2470015585422516, -0.9028184413909912, 0.002210484119132161, 0.011191053315997124, 0.026117654517292976, -0.7892203330993652, -0.23295561969280243, 0.51058429479599, 0.3552507758140564, 0.830936849117279, -0.42023009061813354, 0.11366573721170425, -0.420577734708786, -0.3287274241447449, -0.1112736240029335, 0.3672855496406555, -0.30359509587287903, -0.7236594557762146, 0.7572397589683533, 0.9236588478088379, 0.21218155324459076, 0.0959167405962944, -0.6300495862960815, 0.2543470561504364, -0.6066516637802124, 0.010021576657891273, -0.5136860609054565, -0.19905653595924377, -0.5893707871437073, -0.39709538221359253, -0.9528295397758484, 0.6177505254745483, 0.3506675660610199, -0.287889689207077, 0.08565890043973923, -0.38858914375305176, -0.7459901571273804, -0.1841781884431839, -0.1466948688030243, 0.01522760558873415, -1.0147894620895386, -0.5032305121421814, -0.5956895351409912, 0.3528045117855072, 0.024702494964003563, -0.18148557841777802, -0.22359170019626617, 0.11377159506082535, -0.3701869547367096, -0.8566079139709473, -0.1896512508392334, 0.3554912209510803, -0.24214181303977966, -1.4561201333999634, -0.9198392629623413, -0.1268652081489563, -0.3876940906047821, 0.36097952723503113, 0.08029328286647797, 0.0495193749666214, -0.21016451716423035, -0.21310777962207794, 0.4523085653781891, -0.22396738827228546, -0.757937490940094, -1.568251371383667, 0.3342725932598114, -0.7411932945251465, -0.8041835427284241, -0.5492138266563416, -0.650432288646698, 0.01448465883731842, -0.07411765307188034, -0.22834564745426178, 0.519575834274292, 0.3871115446090698, -0.28156501054763794, -0.005003740079700947, 0.3988952338695526, 0.15951420366764069, 0.6856582760810852, -0.14962442219257355, 0.46841996908187866, -0.04573693126440048, -0.3328787684440613, 0.7031698226928711, 0.29167819023132324, -0.5368826985359192, 1.5793182849884033, -0.4615005552768707, 0.7373197078704834, -0.6393227577209473, 0.3328346312046051, -0.23707054555416107, -0.32941052317619324, 0.2220936268568039, -0.6798882484436035, -0.08096475154161453, -0.2802257239818573, -0.3876676559448242, -0.1721085011959076, 0.35593533515930176, 0.2535894513130188, -0.2794792354106903, 0.03549596294760704, 0.09385693073272705, 0.8664432168006897, -0.3802590072154999, -0.5833092927932739, 0.10380946844816208, 0.2209499031305313, 0.3278200626373291, -1.121984839439392, 0.701514720916748, 1.2204220294952393, -0.12722551822662354, 0.15316614508628845, -0.05615267902612686, -0.506890594959259, 0.21789561212062836, 0.1958320587873459, -0.3839153051376343, 0.3885642886161804, 0.565380334854126, -0.9883930683135986, -0.2694581151008606, 0.30392342805862427, 1.0066916942596436, 0.7046238780021667, -0.017194950953125954, 0.3207153379917145, 1.2378666400909424, 0.48304906487464905, -0.3955828845500946, -0.7017020583152771, -0.6556347012519836, -0.15102866291999817, -0.19665253162384033, 0.6248900890350342, -0.5087873339653015, -0.5445968508720398, -0.9774754643440247, 0.26799729466438293, -0.5261096954345703, -0.34769096970558167, -0.435150146484375, -0.31542274355888367, 0.4423779845237732, -1.7656257152557373, 0.45205751061439514, 0.932181179523468, 0.5525455474853516, -0.2732028663158417, -0.18320022523403168, 0.13382010161876678, 0.3670772612094879, -0.14722797274589539, 0.8900721073150635, -0.3902306854724884, 0.5344486832618713, 0.38626208901405334, -0.7686953544616699, 0.6092280745506287, -0.23835813999176025, 0.20968301594257355, -0.042181238532066345, 0.35041090846061707, 0.9455564618110657, 1.107888102531433, 0.5288848280906677, 0.7201229333877563, -0.12779735028743744, 1.1162437200546265, 0.06893470138311386, -0.35525941848754883, -0.4028840661048889, -0.1501908153295517, -0.22358448803424835, -0.7305859923362732, 0.7654148936271667, 0.13348931074142456, -1.147792100906372, 0.703604519367218, -0.3508065342903137, 0.5597478151321411, -0.6141917109489441, 0.4645613729953766, 0.36962005496025085, -0.5284021496772766, -0.594535768032074, -0.030821679159998894, 0.504703938961029, -0.2396690398454666, 1.7258774042129517, -0.3173031210899353, 0.9429016709327698, -0.36287954449653625, 0.33523088693618774, 0.42595773935317993, -0.4612343907356262, 0.379082590341568, -0.2002212256193161, -0.6291862726211548, 0.28878530859947205, -1.4478801488876343, -0.07468368113040924, -0.6175664067268372, 1.0666886568069458, 0.7533572912216187, 0.2580440640449524, 0.9007395505905151, -0.2511959671974182, 0.19477178156375885, -0.15735271573066711, 0.6894320845603943, -0.06947517395019531, 0.9788312315940857, 0.2849452495574951, -0.1660146266222, 1.1908882856369019, 0.1869446486234665, 0.4232756197452545, 0.3535459339618683, -0.8688886761665344, 0.4924193322658539, 0.4653245210647583, -0.07231129705905914, 0.06744801253080368, -0.2031305879354477, -0.28652554750442505, 0.336371511220932, -0.037963103502988815, -0.37470486760139465, 0.2940315306186676, 0.17076800763607025, -0.194186270236969, 0.4669055640697479, 1.0339049100875854, 0.5229892730712891, 0.35668691992759705, -0.1497928947210312, -0.7040270566940308, 0.7171705961227417, 0.013610458932816982, -0.060729384422302246, -0.25899913907051086, -1.0279459953308105, -0.4190700650215149, 0.5128600597381592, -1.1625361442565918, 0.22319142520427704, -0.5183876156806946, -0.4063291549682617, -0.17450661957263947, -0.8852109313011169, -0.023593584075570107, 0.6922516822814941, 0.6015869379043579, -1.1967235803604126, 0.4947849214076996, -0.3183422386646271, -0.32184281945228577, -0.4080721437931061, 0.009279797784984112, -0.7014468908309937, 0.06573016941547394, -0.6068091988563538, -0.2765606939792633, -0.15183381736278534, 0.07110710442066193, 0.511676549911499, -0.6000439524650574, 0.34027013182640076, -0.1307326853275299, 0.824485182762146, 0.2125372588634491, -0.30223748087882996, 0.8396033048629761, -0.7499069571495056, -0.2573467195034027, 0.0753701701760292, 0.1775142401456833, -0.36755383014678955, -0.5960500836372375, -0.25364547967910767, 0.02730974182486534, 0.2895257771015167, -0.7783738970756531, -0.7741140723228455, -0.517855167388916, 0.827637255191803, -0.5863361358642578, 0.5648189783096313, 0.17139370739459991, 0.5073977112770081, 0.16541503369808197, -0.5595675706863403, 0.39279600977897644, -0.6494103074073792, -0.025512786582112312, -0.17059729993343353, -0.9265899658203125, 0.4831090569496155, 0.07347499579191208, -0.7922365665435791, -1.2646793127059937, 0.628587543964386, -1.0290887355804443, -0.590906023979187, 0.37726694345474243, -0.5210372805595398, -0.30612531304359436, -0.10897187888622284, 0.2582898736000061, 0.6397120952606201, -0.46883562207221985, -0.571996808052063, 0.15021802484989166, 0.011193810030817986, 0.7313328981399536, 0.5604485869407654, 0.4892299175262451, -0.4857019782066345, 0.2154705673456192, -0.36879971623420715, -0.2255512923002243, 0.5186821818351746, -0.2331971526145935, -0.058367762714624405, 0.8910485506057739, 0.008222179487347603, 0.8557275533676147, -1.4478720426559448, 0.43797340989112854, 0.41492241621017456, 0.5515519380569458, 0.8765042424201965, 0.04237033799290657, -0.3576609790325165, -0.45563462376594543, 0.5223221778869629, -0.45335909724235535, -0.1866162121295929, -0.6896544098854065, 0.22461159527301788, -0.07608137279748917, 0.4222734868526459, -1.3667289018630981, 0.4898679554462433, -0.8762441873550415, -0.9693742990493774, 0.7778960466384888, -0.3307434916496277, 0.4618227183818817, -0.4339205026626587, 0.19087405502796173, 0.3218066990375519, 0.5390576720237732, -0.5882027745246887, 0.00841299258172512, 0.6834242939949036, -0.20222321152687073, -0.13419759273529053, 0.026473622769117355, 0.050299715250730515, 0.04680204018950462, -0.18429036438465118, 0.035367775708436966, 0.26678353548049927, -0.047525543719530106, -0.8807218670845032, -0.47283023595809937, -0.6987415552139282, -0.24130821228027344, -0.39179229736328125, 0.1202656626701355, -0.17684482038021088, -0.600709080696106, 0.029614845290780067, -0.5125641822814941, 0.31355422735214233, 0.03512032702565193, 0.45251232385635376, 0.08402642607688904, 0.7090340852737427, 0.15289396047592163, 0.20945605635643005, 0.3955615162849426, 0.09656252712011337, -1.096943974494934, 0.36402738094329834, -0.5293207168579102, -0.6304788589477539, 0.13481824100017548, 0.4797888696193695, -0.46637797355651855, -0.08253879100084305, 0.6126956939697266, 1.0639711618423462, -1.345762848854065, -0.13100463151931763, 0.9079366326332092, 0.8270740509033203, -1.1173468828201294, 0.00743150757625699, -1.1308488845825195, -0.6536325812339783, -0.2664375603199005, 0.978634774684906, 0.6616197228431702, 0.11565574258565903, -0.3796498477458954, 0.22292941808700562, -0.6723625063896179, -0.8625378608703613, 0.6698437929153442, -0.7886507511138916, -0.11260651797056198, -0.1614689975976944, 0.12848861515522003, -0.13841399550437927, 0.6897498965263367, -0.11789480596780777, 0.012434342876076698, -0.5346603393554688, -0.08636950701475143, 0.10259535908699036, 0.37396499514579773, 0.41102516651153564, 0.6377352476119995, 0.5443207025527954, 0.6086896061897278, 0.7268577814102173, -0.8995407223701477, 0.5585291385650635, -0.560106098651886, 0.21649740636348724, -0.7076489925384521, 0.5370500087738037, -0.04257679358124733, 0.2647647261619568, 0.8636509776115417, -0.042298875749111176, 0.9367823004722595, -0.19684675335884094, 0.3827711045742035, 0.564923107624054, -0.8471527099609375, -0.21517282724380493, 0.5677013397216797, -0.1251857429742813, 1.040610432624817, -0.3428959548473358, -0.18010899424552917, -1.0722545385360718, -0.747639000415802, 0.014502240344882011, 0.17539335787296295, 0.5047347545623779, -0.2711406946182251, 0.6956603527069092, 0.8366969227790833, 0.03421609848737717, -0.9908475279808044, 0.2273091971874237, 0.013465389609336853, -0.2664017379283905, 0.04948684945702553, -0.01017371378839016, 1.1591823101043701, 0.03757615387439728, -0.9280769228935242, -0.7238489985466003, 0.6282321810722351, -0.039201971143484116, 0.3210787773132324, -0.9699853658676147, -0.04410465434193611, 0.18451006710529327, -0.48032405972480774, -0.13872762024402618, -0.687750518321991, 0.2139502316713333, 0.8641698360443115, 0.6074937582015991, -0.22791947424411774, 0.14925208687782288, 0.34703367948532104, -0.8451983332633972, -0.7344653606414795, -0.32168546319007874, -0.8200125098228455, -0.3275502324104309, 0.2033698409795761, 1.0957317352294922, 0.7775570154190063, 0.2591676414012909, 0.38152584433555603, 0.1863764226436615, 0.3056163787841797, 0.2342655211687088, -0.28871291875839233, -0.04368038848042488, -0.8602021932601929, 0.8576931357383728, 0.6952357888221741, 0.32940736413002014, 0.03744004666805267, 0.5167457461357117, 0.2815263569355011, -0.15434202551841736, 0.748921275138855, -0.581500768661499, 0.03235757350921631, -0.16281114518642426, -0.3729031980037689, 0.19511719048023224, 0.3744458258152008, 0.5131738185882568, -0.7956613898277283, 0.11664323508739471, 0.8555769920349121, 0.3808484673500061, 0.41348209977149963, 0.022213447839021683, -0.590590238571167, 0.4551011025905609, 0.07851079106330872, -0.6138586401939392, -0.2444920539855957, -0.058153457939624786, 0.4130731225013733, 0.04773011803627014, -0.8690916895866394, 0.43866103887557983, -0.4739828109741211, 0.43922165036201477, 0.5479602217674255, 0.5296371579170227, -0.04383200779557228, -1.071639895439148, -0.018848294392228127, 0.6917716264724731, -0.32571032643318176, -0.8224398493766785, 0.04746704921126366, -0.4697396159172058, 0.40307366847991943, 0.5061678290367126, 0.529339075088501, -0.723280668258667, 0.3730396032333374, -0.6278623938560486, 0.4962827265262604, -0.6734148859977722, 0.670586884021759, 0.5495447516441345, 0.5674415230751038, -0.5587371587753296, -0.14733387529850006, -0.06555843353271484, -0.5612742304801941, -0.23487524688243866, -0.7140524983406067, -0.7084335088729858, -0.13232684135437012, 0.0029100358951836824, -0.2274293154478073, 0.7825804948806763, 1.4139783382415771, -0.8248577117919922, -0.3016268312931061, -0.06547506153583527, -0.6526128053665161, 0.10233937948942184, 0.06821666657924652, -0.40750008821487427, 0.2755642533302307, -0.08020880073308945, 0.14387771487236023, -0.4697655439376831, -1.613174557685852, 0.46348682045936584, 0.21647247672080994, -0.04168415069580078, -1.0815587043762207, 0.20893798768520355, -0.3776915967464447, 0.41746383905410767, 0.650819718837738, 0.2352878898382187, -0.3473547697067261, 0.5251795649528503, 0.3620695471763611, 0.3739558160305023, 0.027712898328900337, 0.21923121809959412, -0.7852020263671875, -0.9464695453643799, -0.3072010576725006, -0.1926104724407196, -0.4651436507701874, -0.4487168788909912, 0.19279727339744568, -0.29043474793434143, -0.03200642764568329, 0.2775575816631317, -0.5697875022888184, 0.3528797924518585, 0.04956790804862976, 0.23888559639453888, -0.7250991463661194, -0.7105638384819031, -0.10911734402179718, -0.028363065794110298, -0.5274707078933716, 0.628655731678009, 0.539853572845459, -0.4312097728252411, 0.011549338698387146, 1.4232139587402344, -1.0127235651016235, 0.19796381890773773, -0.05362771451473236, -0.4030013382434845, 0.4444926381111145, 0.648536741733551, 0.26489901542663574, 0.2728579342365265, 0.26757410168647766, 0.06323790550231934, 0.7198190093040466, -1.6156840324401855, 0.30003806948661804, -0.31219151616096497, 0.8129518628120422, -0.9884639382362366, 0.8899837136268616, -0.047762639820575714, -0.6525272727012634, 0.41678300499916077, 0.34335795044898987, -0.09614510089159012, 0.5036622881889343, 0.8523383140563965, 0.7281400561332703, 0.31278306245803833, 0.5578517317771912, 0.010652909055352211, 0.14799998700618744, 0.18892791867256165, -0.46073147654533386, -0.5389146208763123, -0.039757005870342255, -0.09055618196725845, 0.5942113399505615, 0.1154952198266983, -0.0014080562395974994, 0.559349536895752, -0.08960120379924774, 0.9947757124900818, -0.6125546097755432, 0.250997930765152, -0.24429675936698914, -0.16205085813999176, 0.11248037219047546, 0.6865032315254211, -0.5201253890991211, 0.146701380610466, -0.4628351926803589, 0.7285140752792358, -0.5323982834815979, 0.7359954714775085, -0.12654045224189758, -0.09509015083312988, -0.9025958776473999, -0.2718721926212311, -1.4313747882843018, 0.16063964366912842, -0.6448591351509094, 0.2513882517814636, 0.08943098038434982, -0.7794185876846313, 0.3013375401496887, 0.7250856161117554, 1.0994423627853394, 0.6516961455345154, -0.3382982611656189, -0.7090504765510559, 0.12836015224456787, 0.1926792860031128, 0.23791584372520447, -0.4002901315689087, 0.39979052543640137, 0.5755987763404846, -0.3132500648498535, -0.6801804304122925, 0.8577560186386108, -0.2120709866285324, -0.6358693242073059, -0.15332363545894623, -0.20030249655246735, -0.4368862807750702, 0.8180018663406372, 0.2979958951473236, -0.5207275152206421, -0.12036693096160889, 0.966529905796051, 0.4592730700969696, 0.14754173159599304, -1.0916824340820312, -0.35876986384391785, -0.155255526304245, -0.024373767897486687, 0.23656108975410461, 0.47677361965179443, -0.12733423709869385, -0.09229825437068939, -0.7811110019683838, -1.0945392847061157, 0.6554885506629944, -0.03019367903470993, 0.8501261472702026, 0.3482699990272522, -0.6720260381698608, -0.6383326649665833, 1.3164788484573364, -0.38698336482048035, -0.21042990684509277, 0.02234058827161789, 0.6739720106124878, 0.649932861328125, 0.10458548367023468, -0.11327855288982391, -0.8002522587776184, -0.479488343000412, 0.4486185610294342, -0.05361024662852287, -0.5006183385848999, 0.03222856670618057, -0.05478545278310776, 0.3820251524448395, 0.3790418207645416, -0.02595808543264866, 0.10653340071439743, 0.5949238538742065, -0.025188174098730087, -1.1473041772842407, 0.44104844331741333, 0.8222449421882629, -0.14884226024150848, 0.46980491280555725, -0.38533473014831543, -0.4974325895309448, -0.3581710755825043, -0.6682667136192322, -0.8560870885848999, -1.0609406232833862, 0.01982094906270504, -0.42286068201065063, 0.042337216436862946, -0.30962681770324707, -0.6070099472999573, -0.09996695071458817]]\n",
            "1\n"
          ],
          "name": "stdout"
        },
        {
          "output_type": "error",
          "ename": "KeyboardInterrupt",
          "evalue": "ignored",
          "traceback": [
            "\u001b[0;31m---------------------------------------------------------------------------\u001b[0m",
            "\u001b[0;31mKeyboardInterrupt\u001b[0m                         Traceback (most recent call last)",
            "\u001b[0;32m<ipython-input-92-f74c03ad1b3f>\u001b[0m in \u001b[0;36m<module>\u001b[0;34m()\u001b[0m\n\u001b[1;32m      4\u001b[0m \u001b[0;32mfor\u001b[0m \u001b[0mdoc\u001b[0m \u001b[0;32min\u001b[0m \u001b[0m_chunk\u001b[0m\u001b[0;34m:\u001b[0m\u001b[0;34m\u001b[0m\u001b[0;34m\u001b[0m\u001b[0m\n\u001b[1;32m      5\u001b[0m   \u001b[0;31m#description.remove(None)\u001b[0m\u001b[0;34m\u001b[0m\u001b[0;34m\u001b[0m\u001b[0;34m\u001b[0m\u001b[0m\n\u001b[0;32m----> 6\u001b[0;31m   \u001b[0mdescription_vectors\u001b[0m \u001b[0;34m=\u001b[0m \u001b[0msentence_auto\u001b[0m\u001b[0;34m(\u001b[0m\u001b[0mdoc\u001b[0m\u001b[0;34m)\u001b[0m\u001b[0;34m\u001b[0m\u001b[0;34m\u001b[0m\u001b[0m\n\u001b[0m\u001b[1;32m      7\u001b[0m   \u001b[0mprint\u001b[0m\u001b[0;34m(\u001b[0m\u001b[0mdescription_vectors\u001b[0m\u001b[0;34m)\u001b[0m\u001b[0;34m\u001b[0m\u001b[0;34m\u001b[0m\u001b[0m\n\u001b[1;32m      8\u001b[0m   \u001b[0mprint\u001b[0m\u001b[0;34m(\u001b[0m\u001b[0mlen\u001b[0m\u001b[0;34m(\u001b[0m\u001b[0mdescription_vectors\u001b[0m\u001b[0;34m)\u001b[0m\u001b[0;34m)\u001b[0m\u001b[0;34m\u001b[0m\u001b[0;34m\u001b[0m\u001b[0m\n",
            "\u001b[0;32m<ipython-input-66-75872d499854>\u001b[0m in \u001b[0;36msentence_auto\u001b[0;34m(sentences)\u001b[0m\n\u001b[1;32m      2\u001b[0m \u001b[0;31m#Load AutoModel from huggingface model repository\u001b[0m\u001b[0;34m\u001b[0m\u001b[0;34m\u001b[0m\u001b[0;34m\u001b[0m\u001b[0m\n\u001b[1;32m      3\u001b[0m     \u001b[0mtokenizer\u001b[0m \u001b[0;34m=\u001b[0m \u001b[0mAutoTokenizer\u001b[0m\u001b[0;34m.\u001b[0m\u001b[0mfrom_pretrained\u001b[0m\u001b[0;34m(\u001b[0m\u001b[0;34m\"sentence-transformers/bert-base-nli-mean-tokens\"\u001b[0m\u001b[0;34m)\u001b[0m\u001b[0;34m\u001b[0m\u001b[0;34m\u001b[0m\u001b[0m\n\u001b[0;32m----> 4\u001b[0;31m     \u001b[0mmodel\u001b[0m \u001b[0;34m=\u001b[0m \u001b[0mAutoModel\u001b[0m\u001b[0;34m.\u001b[0m\u001b[0mfrom_pretrained\u001b[0m\u001b[0;34m(\u001b[0m\u001b[0;34m\"sentence-transformers/bert-base-nli-mean-tokens\"\u001b[0m\u001b[0;34m)\u001b[0m\u001b[0;34m\u001b[0m\u001b[0;34m\u001b[0m\u001b[0m\n\u001b[0m\u001b[1;32m      5\u001b[0m \u001b[0;34m\u001b[0m\u001b[0m\n\u001b[1;32m      6\u001b[0m \u001b[0;31m#Tokenize sentences\u001b[0m\u001b[0;34m\u001b[0m\u001b[0;34m\u001b[0m\u001b[0;34m\u001b[0m\u001b[0m\n",
            "\u001b[0;32m/usr/local/lib/python3.6/dist-packages/transformers/modeling_auto.py\u001b[0m in \u001b[0;36mfrom_pretrained\u001b[0;34m(cls, pretrained_model_name_or_path, *model_args, **kwargs)\u001b[0m\n\u001b[1;32m    582\u001b[0m         \u001b[0;32mif\u001b[0m \u001b[0;32mnot\u001b[0m \u001b[0misinstance\u001b[0m\u001b[0;34m(\u001b[0m\u001b[0mconfig\u001b[0m\u001b[0;34m,\u001b[0m \u001b[0mPretrainedConfig\u001b[0m\u001b[0;34m)\u001b[0m\u001b[0;34m:\u001b[0m\u001b[0;34m\u001b[0m\u001b[0;34m\u001b[0m\u001b[0m\n\u001b[1;32m    583\u001b[0m             config, kwargs = AutoConfig.from_pretrained(\n\u001b[0;32m--> 584\u001b[0;31m                 \u001b[0mpretrained_model_name_or_path\u001b[0m\u001b[0;34m,\u001b[0m \u001b[0mreturn_unused_kwargs\u001b[0m\u001b[0;34m=\u001b[0m\u001b[0;32mTrue\u001b[0m\u001b[0;34m,\u001b[0m \u001b[0;34m**\u001b[0m\u001b[0mkwargs\u001b[0m\u001b[0;34m\u001b[0m\u001b[0;34m\u001b[0m\u001b[0m\n\u001b[0m\u001b[1;32m    585\u001b[0m             )\n\u001b[1;32m    586\u001b[0m \u001b[0;34m\u001b[0m\u001b[0m\n",
            "\u001b[0;32m/usr/local/lib/python3.6/dist-packages/transformers/configuration_auto.py\u001b[0m in \u001b[0;36mfrom_pretrained\u001b[0;34m(cls, pretrained_model_name_or_path, **kwargs)\u001b[0m\n\u001b[1;32m    308\u001b[0m             \u001b[0;34m{\u001b[0m\u001b[0;34m'foo'\u001b[0m\u001b[0;34m:\u001b[0m \u001b[0;32mFalse\u001b[0m\u001b[0;34m}\u001b[0m\u001b[0;34m\u001b[0m\u001b[0;34m\u001b[0m\u001b[0m\n\u001b[1;32m    309\u001b[0m         \"\"\"\n\u001b[0;32m--> 310\u001b[0;31m         \u001b[0mconfig_dict\u001b[0m\u001b[0;34m,\u001b[0m \u001b[0m_\u001b[0m \u001b[0;34m=\u001b[0m \u001b[0mPretrainedConfig\u001b[0m\u001b[0;34m.\u001b[0m\u001b[0mget_config_dict\u001b[0m\u001b[0;34m(\u001b[0m\u001b[0mpretrained_model_name_or_path\u001b[0m\u001b[0;34m,\u001b[0m \u001b[0;34m**\u001b[0m\u001b[0mkwargs\u001b[0m\u001b[0;34m)\u001b[0m\u001b[0;34m\u001b[0m\u001b[0;34m\u001b[0m\u001b[0m\n\u001b[0m\u001b[1;32m    311\u001b[0m \u001b[0;34m\u001b[0m\u001b[0m\n\u001b[1;32m    312\u001b[0m         \u001b[0;32mif\u001b[0m \u001b[0;34m\"model_type\"\u001b[0m \u001b[0;32min\u001b[0m \u001b[0mconfig_dict\u001b[0m\u001b[0;34m:\u001b[0m\u001b[0;34m\u001b[0m\u001b[0;34m\u001b[0m\u001b[0m\n",
            "\u001b[0;32m/usr/local/lib/python3.6/dist-packages/transformers/configuration_utils.py\u001b[0m in \u001b[0;36mget_config_dict\u001b[0;34m(cls, pretrained_model_name_or_path, **kwargs)\u001b[0m\n\u001b[1;32m    353\u001b[0m                 \u001b[0mproxies\u001b[0m\u001b[0;34m=\u001b[0m\u001b[0mproxies\u001b[0m\u001b[0;34m,\u001b[0m\u001b[0;34m\u001b[0m\u001b[0;34m\u001b[0m\u001b[0m\n\u001b[1;32m    354\u001b[0m                 \u001b[0mresume_download\u001b[0m\u001b[0;34m=\u001b[0m\u001b[0mresume_download\u001b[0m\u001b[0;34m,\u001b[0m\u001b[0;34m\u001b[0m\u001b[0;34m\u001b[0m\u001b[0m\n\u001b[0;32m--> 355\u001b[0;31m                 \u001b[0mlocal_files_only\u001b[0m\u001b[0;34m=\u001b[0m\u001b[0mlocal_files_only\u001b[0m\u001b[0;34m,\u001b[0m\u001b[0;34m\u001b[0m\u001b[0;34m\u001b[0m\u001b[0m\n\u001b[0m\u001b[1;32m    356\u001b[0m             )\n\u001b[1;32m    357\u001b[0m             \u001b[0;31m# Load config dict\u001b[0m\u001b[0;34m\u001b[0m\u001b[0;34m\u001b[0m\u001b[0;34m\u001b[0m\u001b[0m\n",
            "\u001b[0;32m/usr/local/lib/python3.6/dist-packages/transformers/file_utils.py\u001b[0m in \u001b[0;36mcached_path\u001b[0;34m(url_or_filename, cache_dir, force_download, proxies, resume_download, user_agent, extract_compressed_file, force_extract, local_files_only)\u001b[0m\n\u001b[1;32m    721\u001b[0m             \u001b[0mresume_download\u001b[0m\u001b[0;34m=\u001b[0m\u001b[0mresume_download\u001b[0m\u001b[0;34m,\u001b[0m\u001b[0;34m\u001b[0m\u001b[0;34m\u001b[0m\u001b[0m\n\u001b[1;32m    722\u001b[0m             \u001b[0muser_agent\u001b[0m\u001b[0;34m=\u001b[0m\u001b[0muser_agent\u001b[0m\u001b[0;34m,\u001b[0m\u001b[0;34m\u001b[0m\u001b[0;34m\u001b[0m\u001b[0m\n\u001b[0;32m--> 723\u001b[0;31m             \u001b[0mlocal_files_only\u001b[0m\u001b[0;34m=\u001b[0m\u001b[0mlocal_files_only\u001b[0m\u001b[0;34m,\u001b[0m\u001b[0;34m\u001b[0m\u001b[0;34m\u001b[0m\u001b[0m\n\u001b[0m\u001b[1;32m    724\u001b[0m         )\n\u001b[1;32m    725\u001b[0m     \u001b[0;32melif\u001b[0m \u001b[0mos\u001b[0m\u001b[0;34m.\u001b[0m\u001b[0mpath\u001b[0m\u001b[0;34m.\u001b[0m\u001b[0mexists\u001b[0m\u001b[0;34m(\u001b[0m\u001b[0murl_or_filename\u001b[0m\u001b[0;34m)\u001b[0m\u001b[0;34m:\u001b[0m\u001b[0;34m\u001b[0m\u001b[0;34m\u001b[0m\u001b[0m\n",
            "\u001b[0;32m/usr/local/lib/python3.6/dist-packages/transformers/file_utils.py\u001b[0m in \u001b[0;36mget_from_cache\u001b[0;34m(url, cache_dir, force_download, proxies, etag_timeout, resume_download, user_agent, local_files_only)\u001b[0m\n\u001b[1;32m    828\u001b[0m     \u001b[0;32mif\u001b[0m \u001b[0;32mnot\u001b[0m \u001b[0mlocal_files_only\u001b[0m\u001b[0;34m:\u001b[0m\u001b[0;34m\u001b[0m\u001b[0;34m\u001b[0m\u001b[0m\n\u001b[1;32m    829\u001b[0m         \u001b[0;32mtry\u001b[0m\u001b[0;34m:\u001b[0m\u001b[0;34m\u001b[0m\u001b[0;34m\u001b[0m\u001b[0m\n\u001b[0;32m--> 830\u001b[0;31m             \u001b[0mresponse\u001b[0m \u001b[0;34m=\u001b[0m \u001b[0mrequests\u001b[0m\u001b[0;34m.\u001b[0m\u001b[0mhead\u001b[0m\u001b[0;34m(\u001b[0m\u001b[0murl\u001b[0m\u001b[0;34m,\u001b[0m \u001b[0mallow_redirects\u001b[0m\u001b[0;34m=\u001b[0m\u001b[0;32mTrue\u001b[0m\u001b[0;34m,\u001b[0m \u001b[0mproxies\u001b[0m\u001b[0;34m=\u001b[0m\u001b[0mproxies\u001b[0m\u001b[0;34m,\u001b[0m \u001b[0mtimeout\u001b[0m\u001b[0;34m=\u001b[0m\u001b[0metag_timeout\u001b[0m\u001b[0;34m)\u001b[0m\u001b[0;34m\u001b[0m\u001b[0;34m\u001b[0m\u001b[0m\n\u001b[0m\u001b[1;32m    831\u001b[0m             \u001b[0;32mif\u001b[0m \u001b[0mresponse\u001b[0m\u001b[0;34m.\u001b[0m\u001b[0mstatus_code\u001b[0m \u001b[0;34m==\u001b[0m \u001b[0;36m200\u001b[0m\u001b[0;34m:\u001b[0m\u001b[0;34m\u001b[0m\u001b[0;34m\u001b[0m\u001b[0m\n\u001b[1;32m    832\u001b[0m                 \u001b[0metag\u001b[0m \u001b[0;34m=\u001b[0m \u001b[0mresponse\u001b[0m\u001b[0;34m.\u001b[0m\u001b[0mheaders\u001b[0m\u001b[0;34m.\u001b[0m\u001b[0mget\u001b[0m\u001b[0;34m(\u001b[0m\u001b[0;34m\"ETag\"\u001b[0m\u001b[0;34m)\u001b[0m\u001b[0;34m\u001b[0m\u001b[0;34m\u001b[0m\u001b[0m\n",
            "\u001b[0;32m/usr/local/lib/python3.6/dist-packages/requests/api.py\u001b[0m in \u001b[0;36mhead\u001b[0;34m(url, **kwargs)\u001b[0m\n\u001b[1;32m    102\u001b[0m \u001b[0;34m\u001b[0m\u001b[0m\n\u001b[1;32m    103\u001b[0m     \u001b[0mkwargs\u001b[0m\u001b[0;34m.\u001b[0m\u001b[0msetdefault\u001b[0m\u001b[0;34m(\u001b[0m\u001b[0;34m'allow_redirects'\u001b[0m\u001b[0;34m,\u001b[0m \u001b[0;32mFalse\u001b[0m\u001b[0;34m)\u001b[0m\u001b[0;34m\u001b[0m\u001b[0;34m\u001b[0m\u001b[0m\n\u001b[0;32m--> 104\u001b[0;31m     \u001b[0;32mreturn\u001b[0m \u001b[0mrequest\u001b[0m\u001b[0;34m(\u001b[0m\u001b[0;34m'head'\u001b[0m\u001b[0;34m,\u001b[0m \u001b[0murl\u001b[0m\u001b[0;34m,\u001b[0m \u001b[0;34m**\u001b[0m\u001b[0mkwargs\u001b[0m\u001b[0;34m)\u001b[0m\u001b[0;34m\u001b[0m\u001b[0;34m\u001b[0m\u001b[0m\n\u001b[0m\u001b[1;32m    105\u001b[0m \u001b[0;34m\u001b[0m\u001b[0m\n\u001b[1;32m    106\u001b[0m \u001b[0;34m\u001b[0m\u001b[0m\n",
            "\u001b[0;32m/usr/local/lib/python3.6/dist-packages/requests/api.py\u001b[0m in \u001b[0;36mrequest\u001b[0;34m(method, url, **kwargs)\u001b[0m\n\u001b[1;32m     59\u001b[0m     \u001b[0;31m# cases, and look like a memory leak in others.\u001b[0m\u001b[0;34m\u001b[0m\u001b[0;34m\u001b[0m\u001b[0;34m\u001b[0m\u001b[0m\n\u001b[1;32m     60\u001b[0m     \u001b[0;32mwith\u001b[0m \u001b[0msessions\u001b[0m\u001b[0;34m.\u001b[0m\u001b[0mSession\u001b[0m\u001b[0;34m(\u001b[0m\u001b[0;34m)\u001b[0m \u001b[0;32mas\u001b[0m \u001b[0msession\u001b[0m\u001b[0;34m:\u001b[0m\u001b[0;34m\u001b[0m\u001b[0;34m\u001b[0m\u001b[0m\n\u001b[0;32m---> 61\u001b[0;31m         \u001b[0;32mreturn\u001b[0m \u001b[0msession\u001b[0m\u001b[0;34m.\u001b[0m\u001b[0mrequest\u001b[0m\u001b[0;34m(\u001b[0m\u001b[0mmethod\u001b[0m\u001b[0;34m=\u001b[0m\u001b[0mmethod\u001b[0m\u001b[0;34m,\u001b[0m \u001b[0murl\u001b[0m\u001b[0;34m=\u001b[0m\u001b[0murl\u001b[0m\u001b[0;34m,\u001b[0m \u001b[0;34m**\u001b[0m\u001b[0mkwargs\u001b[0m\u001b[0;34m)\u001b[0m\u001b[0;34m\u001b[0m\u001b[0;34m\u001b[0m\u001b[0m\n\u001b[0m\u001b[1;32m     62\u001b[0m \u001b[0;34m\u001b[0m\u001b[0m\n\u001b[1;32m     63\u001b[0m \u001b[0;34m\u001b[0m\u001b[0m\n",
            "\u001b[0;32m/usr/local/lib/python3.6/dist-packages/requests/sessions.py\u001b[0m in \u001b[0;36mrequest\u001b[0;34m(self, method, url, params, data, headers, cookies, files, auth, timeout, allow_redirects, proxies, hooks, stream, verify, cert, json)\u001b[0m\n\u001b[1;32m    528\u001b[0m         }\n\u001b[1;32m    529\u001b[0m         \u001b[0msend_kwargs\u001b[0m\u001b[0;34m.\u001b[0m\u001b[0mupdate\u001b[0m\u001b[0;34m(\u001b[0m\u001b[0msettings\u001b[0m\u001b[0;34m)\u001b[0m\u001b[0;34m\u001b[0m\u001b[0;34m\u001b[0m\u001b[0m\n\u001b[0;32m--> 530\u001b[0;31m         \u001b[0mresp\u001b[0m \u001b[0;34m=\u001b[0m \u001b[0mself\u001b[0m\u001b[0;34m.\u001b[0m\u001b[0msend\u001b[0m\u001b[0;34m(\u001b[0m\u001b[0mprep\u001b[0m\u001b[0;34m,\u001b[0m \u001b[0;34m**\u001b[0m\u001b[0msend_kwargs\u001b[0m\u001b[0;34m)\u001b[0m\u001b[0;34m\u001b[0m\u001b[0;34m\u001b[0m\u001b[0m\n\u001b[0m\u001b[1;32m    531\u001b[0m \u001b[0;34m\u001b[0m\u001b[0m\n\u001b[1;32m    532\u001b[0m         \u001b[0;32mreturn\u001b[0m \u001b[0mresp\u001b[0m\u001b[0;34m\u001b[0m\u001b[0;34m\u001b[0m\u001b[0m\n",
            "\u001b[0;32m/usr/local/lib/python3.6/dist-packages/requests/sessions.py\u001b[0m in \u001b[0;36msend\u001b[0;34m(self, request, **kwargs)\u001b[0m\n\u001b[1;32m    641\u001b[0m \u001b[0;34m\u001b[0m\u001b[0m\n\u001b[1;32m    642\u001b[0m         \u001b[0;31m# Send the request\u001b[0m\u001b[0;34m\u001b[0m\u001b[0;34m\u001b[0m\u001b[0;34m\u001b[0m\u001b[0m\n\u001b[0;32m--> 643\u001b[0;31m         \u001b[0mr\u001b[0m \u001b[0;34m=\u001b[0m \u001b[0madapter\u001b[0m\u001b[0;34m.\u001b[0m\u001b[0msend\u001b[0m\u001b[0;34m(\u001b[0m\u001b[0mrequest\u001b[0m\u001b[0;34m,\u001b[0m \u001b[0;34m**\u001b[0m\u001b[0mkwargs\u001b[0m\u001b[0;34m)\u001b[0m\u001b[0;34m\u001b[0m\u001b[0;34m\u001b[0m\u001b[0m\n\u001b[0m\u001b[1;32m    644\u001b[0m \u001b[0;34m\u001b[0m\u001b[0m\n\u001b[1;32m    645\u001b[0m         \u001b[0;31m# Total elapsed time of the request (approximately)\u001b[0m\u001b[0;34m\u001b[0m\u001b[0;34m\u001b[0m\u001b[0;34m\u001b[0m\u001b[0m\n",
            "\u001b[0;32m/usr/local/lib/python3.6/dist-packages/requests/adapters.py\u001b[0m in \u001b[0;36msend\u001b[0;34m(self, request, stream, timeout, verify, cert, proxies)\u001b[0m\n\u001b[1;32m    447\u001b[0m                     \u001b[0mdecode_content\u001b[0m\u001b[0;34m=\u001b[0m\u001b[0;32mFalse\u001b[0m\u001b[0;34m,\u001b[0m\u001b[0;34m\u001b[0m\u001b[0;34m\u001b[0m\u001b[0m\n\u001b[1;32m    448\u001b[0m                     \u001b[0mretries\u001b[0m\u001b[0;34m=\u001b[0m\u001b[0mself\u001b[0m\u001b[0;34m.\u001b[0m\u001b[0mmax_retries\u001b[0m\u001b[0;34m,\u001b[0m\u001b[0;34m\u001b[0m\u001b[0;34m\u001b[0m\u001b[0m\n\u001b[0;32m--> 449\u001b[0;31m                     \u001b[0mtimeout\u001b[0m\u001b[0;34m=\u001b[0m\u001b[0mtimeout\u001b[0m\u001b[0;34m\u001b[0m\u001b[0;34m\u001b[0m\u001b[0m\n\u001b[0m\u001b[1;32m    450\u001b[0m                 )\n\u001b[1;32m    451\u001b[0m \u001b[0;34m\u001b[0m\u001b[0m\n",
            "\u001b[0;32m/usr/local/lib/python3.6/dist-packages/urllib3/connectionpool.py\u001b[0m in \u001b[0;36murlopen\u001b[0;34m(self, method, url, body, headers, retries, redirect, assert_same_host, timeout, pool_timeout, release_conn, chunked, body_pos, **response_kw)\u001b[0m\n\u001b[1;32m    598\u001b[0m                                                   \u001b[0mtimeout\u001b[0m\u001b[0;34m=\u001b[0m\u001b[0mtimeout_obj\u001b[0m\u001b[0;34m,\u001b[0m\u001b[0;34m\u001b[0m\u001b[0;34m\u001b[0m\u001b[0m\n\u001b[1;32m    599\u001b[0m                                                   \u001b[0mbody\u001b[0m\u001b[0;34m=\u001b[0m\u001b[0mbody\u001b[0m\u001b[0;34m,\u001b[0m \u001b[0mheaders\u001b[0m\u001b[0;34m=\u001b[0m\u001b[0mheaders\u001b[0m\u001b[0;34m,\u001b[0m\u001b[0;34m\u001b[0m\u001b[0;34m\u001b[0m\u001b[0m\n\u001b[0;32m--> 600\u001b[0;31m                                                   chunked=chunked)\n\u001b[0m\u001b[1;32m    601\u001b[0m \u001b[0;34m\u001b[0m\u001b[0m\n\u001b[1;32m    602\u001b[0m             \u001b[0;31m# If we're going to release the connection in ``finally:``, then\u001b[0m\u001b[0;34m\u001b[0m\u001b[0;34m\u001b[0m\u001b[0;34m\u001b[0m\u001b[0m\n",
            "\u001b[0;32m/usr/local/lib/python3.6/dist-packages/urllib3/connectionpool.py\u001b[0m in \u001b[0;36m_make_request\u001b[0;34m(self, conn, method, url, timeout, chunked, **httplib_request_kw)\u001b[0m\n\u001b[1;32m    341\u001b[0m         \u001b[0;31m# Trigger any extra validation we need to do.\u001b[0m\u001b[0;34m\u001b[0m\u001b[0;34m\u001b[0m\u001b[0;34m\u001b[0m\u001b[0m\n\u001b[1;32m    342\u001b[0m         \u001b[0;32mtry\u001b[0m\u001b[0;34m:\u001b[0m\u001b[0;34m\u001b[0m\u001b[0;34m\u001b[0m\u001b[0m\n\u001b[0;32m--> 343\u001b[0;31m             \u001b[0mself\u001b[0m\u001b[0;34m.\u001b[0m\u001b[0m_validate_conn\u001b[0m\u001b[0;34m(\u001b[0m\u001b[0mconn\u001b[0m\u001b[0;34m)\u001b[0m\u001b[0;34m\u001b[0m\u001b[0;34m\u001b[0m\u001b[0m\n\u001b[0m\u001b[1;32m    344\u001b[0m         \u001b[0;32mexcept\u001b[0m \u001b[0;34m(\u001b[0m\u001b[0mSocketTimeout\u001b[0m\u001b[0;34m,\u001b[0m \u001b[0mBaseSSLError\u001b[0m\u001b[0;34m)\u001b[0m \u001b[0;32mas\u001b[0m \u001b[0me\u001b[0m\u001b[0;34m:\u001b[0m\u001b[0;34m\u001b[0m\u001b[0;34m\u001b[0m\u001b[0m\n\u001b[1;32m    345\u001b[0m             \u001b[0;31m# Py2 raises this as a BaseSSLError, Py3 raises it as socket timeout.\u001b[0m\u001b[0;34m\u001b[0m\u001b[0;34m\u001b[0m\u001b[0;34m\u001b[0m\u001b[0m\n",
            "\u001b[0;32m/usr/local/lib/python3.6/dist-packages/urllib3/connectionpool.py\u001b[0m in \u001b[0;36m_validate_conn\u001b[0;34m(self, conn)\u001b[0m\n\u001b[1;32m    837\u001b[0m         \u001b[0;31m# Force connect early to allow us to validate the connection.\u001b[0m\u001b[0;34m\u001b[0m\u001b[0;34m\u001b[0m\u001b[0;34m\u001b[0m\u001b[0m\n\u001b[1;32m    838\u001b[0m         \u001b[0;32mif\u001b[0m \u001b[0;32mnot\u001b[0m \u001b[0mgetattr\u001b[0m\u001b[0;34m(\u001b[0m\u001b[0mconn\u001b[0m\u001b[0;34m,\u001b[0m \u001b[0;34m'sock'\u001b[0m\u001b[0;34m,\u001b[0m \u001b[0;32mNone\u001b[0m\u001b[0;34m)\u001b[0m\u001b[0;34m:\u001b[0m  \u001b[0;31m# AppEngine might not have  `.sock`\u001b[0m\u001b[0;34m\u001b[0m\u001b[0;34m\u001b[0m\u001b[0m\n\u001b[0;32m--> 839\u001b[0;31m             \u001b[0mconn\u001b[0m\u001b[0;34m.\u001b[0m\u001b[0mconnect\u001b[0m\u001b[0;34m(\u001b[0m\u001b[0;34m)\u001b[0m\u001b[0;34m\u001b[0m\u001b[0;34m\u001b[0m\u001b[0m\n\u001b[0m\u001b[1;32m    840\u001b[0m \u001b[0;34m\u001b[0m\u001b[0m\n\u001b[1;32m    841\u001b[0m         \u001b[0;32mif\u001b[0m \u001b[0;32mnot\u001b[0m \u001b[0mconn\u001b[0m\u001b[0;34m.\u001b[0m\u001b[0mis_verified\u001b[0m\u001b[0;34m:\u001b[0m\u001b[0;34m\u001b[0m\u001b[0;34m\u001b[0m\u001b[0m\n",
            "\u001b[0;32m/usr/local/lib/python3.6/dist-packages/urllib3/connection.py\u001b[0m in \u001b[0;36mconnect\u001b[0;34m(self)\u001b[0m\n\u001b[1;32m    299\u001b[0m     \u001b[0;32mdef\u001b[0m \u001b[0mconnect\u001b[0m\u001b[0;34m(\u001b[0m\u001b[0mself\u001b[0m\u001b[0;34m)\u001b[0m\u001b[0;34m:\u001b[0m\u001b[0;34m\u001b[0m\u001b[0;34m\u001b[0m\u001b[0m\n\u001b[1;32m    300\u001b[0m         \u001b[0;31m# Add certificate verification\u001b[0m\u001b[0;34m\u001b[0m\u001b[0;34m\u001b[0m\u001b[0;34m\u001b[0m\u001b[0m\n\u001b[0;32m--> 301\u001b[0;31m         \u001b[0mconn\u001b[0m \u001b[0;34m=\u001b[0m \u001b[0mself\u001b[0m\u001b[0;34m.\u001b[0m\u001b[0m_new_conn\u001b[0m\u001b[0;34m(\u001b[0m\u001b[0;34m)\u001b[0m\u001b[0;34m\u001b[0m\u001b[0;34m\u001b[0m\u001b[0m\n\u001b[0m\u001b[1;32m    302\u001b[0m         \u001b[0mhostname\u001b[0m \u001b[0;34m=\u001b[0m \u001b[0mself\u001b[0m\u001b[0;34m.\u001b[0m\u001b[0mhost\u001b[0m\u001b[0;34m\u001b[0m\u001b[0;34m\u001b[0m\u001b[0m\n\u001b[1;32m    303\u001b[0m \u001b[0;34m\u001b[0m\u001b[0m\n",
            "\u001b[0;32m/usr/local/lib/python3.6/dist-packages/urllib3/connection.py\u001b[0m in \u001b[0;36m_new_conn\u001b[0;34m(self)\u001b[0m\n\u001b[1;32m    157\u001b[0m         \u001b[0;32mtry\u001b[0m\u001b[0;34m:\u001b[0m\u001b[0;34m\u001b[0m\u001b[0;34m\u001b[0m\u001b[0m\n\u001b[1;32m    158\u001b[0m             conn = connection.create_connection(\n\u001b[0;32m--> 159\u001b[0;31m                 (self._dns_host, self.port), self.timeout, **extra_kw)\n\u001b[0m\u001b[1;32m    160\u001b[0m \u001b[0;34m\u001b[0m\u001b[0m\n\u001b[1;32m    161\u001b[0m         \u001b[0;32mexcept\u001b[0m \u001b[0mSocketTimeout\u001b[0m\u001b[0;34m:\u001b[0m\u001b[0;34m\u001b[0m\u001b[0;34m\u001b[0m\u001b[0m\n",
            "\u001b[0;32m/usr/local/lib/python3.6/dist-packages/urllib3/util/connection.py\u001b[0m in \u001b[0;36mcreate_connection\u001b[0;34m(address, timeout, source_address, socket_options)\u001b[0m\n\u001b[1;32m     68\u001b[0m             \u001b[0;32mif\u001b[0m \u001b[0msource_address\u001b[0m\u001b[0;34m:\u001b[0m\u001b[0;34m\u001b[0m\u001b[0;34m\u001b[0m\u001b[0m\n\u001b[1;32m     69\u001b[0m                 \u001b[0msock\u001b[0m\u001b[0;34m.\u001b[0m\u001b[0mbind\u001b[0m\u001b[0;34m(\u001b[0m\u001b[0msource_address\u001b[0m\u001b[0;34m)\u001b[0m\u001b[0;34m\u001b[0m\u001b[0;34m\u001b[0m\u001b[0m\n\u001b[0;32m---> 70\u001b[0;31m             \u001b[0msock\u001b[0m\u001b[0;34m.\u001b[0m\u001b[0mconnect\u001b[0m\u001b[0;34m(\u001b[0m\u001b[0msa\u001b[0m\u001b[0;34m)\u001b[0m\u001b[0;34m\u001b[0m\u001b[0;34m\u001b[0m\u001b[0m\n\u001b[0m\u001b[1;32m     71\u001b[0m             \u001b[0;32mreturn\u001b[0m \u001b[0msock\u001b[0m\u001b[0;34m\u001b[0m\u001b[0;34m\u001b[0m\u001b[0m\n\u001b[1;32m     72\u001b[0m \u001b[0;34m\u001b[0m\u001b[0m\n",
            "\u001b[0;31mKeyboardInterrupt\u001b[0m: "
          ]
        }
      ]
    },
    {
      "cell_type": "code",
      "metadata": {
        "id": "SDTOLzu7Yur0"
      },
      "source": [
        "desc_vectors"
      ],
      "execution_count": null,
      "outputs": []
    },
    {
      "cell_type": "code",
      "metadata": {
        "id": "q0kVYAWIPnsD"
      },
      "source": [
        "es"
      ],
      "execution_count": null,
      "outputs": []
    },
    {
      "cell_type": "code",
      "metadata": {
        "id": "KsWRSk5DVGTk"
      },
      "source": [
        "#indexautobert =start_auto_91(3900 indexed documents),start_auto_19 (2600 indexed documents)\n",
        "ES_INDEX_NAME = \"start_auto_00001\""
      ],
      "execution_count": null,
      "outputs": []
    },
    {
      "cell_type": "code",
      "metadata": {
        "id": "k6JEQobLSyTA",
        "outputId": "51645db8-895b-49e3-d268-4d12d8630ec0",
        "colab": {
          "base_uri": "https://localhost:8080/",
          "height": 357
        }
      },
      "source": [
        "index_data(_chunk)"
      ],
      "execution_count": null,
      "outputs": [
        {
          "output_type": "stream",
          "text": [
            "['[\\'\"Since the incorporation of the company we have seen quite dramatic changes both in technology and the attitude of companies requiring remote access and support services. This sector has also called for infrastructure and security improvements that has increased the scope of our core business to include for high level languages and more integration with company IT systems. It is common for access and camera security systems to be integrated into an overall control and monitoring system with the inclusion', 'of detailed reports for production efficiencies and traceability.\"\\', \\'\"Zytec Systems Ltd was created to provide clients with a customer focused solution to their automated electrical engineering needs. We encourage a flexible and cooperative attitude to all our engineers and require sincerity at all times.\"\\', \\'2020 Zytec Systems(UK) Ltd :\\', \\'50 Harvest Way\\', \\'A Rockwell Control Logix PLC with a Rockwell Factory Talk HMI was utilized for the control of the System. The system also included for Remote I/O on a', 'ASI Network that communicated back to PLC via Ethernet TCPIP. The system also contained a Wifi Remote control for determination of destination of pallets to proceed directly to the warehouse/production facility or too the high level intermediate store. The double conveyor system contained a facility which enabled a reverse selection of the conveyors to allow for a line breakdown and still have the facility to transfer pallets in both directions. The system was designed to achieve a leisurely 50 pallets per', \"hour per line, and was finally commissioned and was achieving over 60 pallets per hour. The system has now enabled the client to remove pallet trucks being driven across a main road and increased the efficiency of production material planning.', 'A Siemens S7:300 PLC & HMI with local I/O modules are utilized for the control of the System. The system comprises of a common pressurized water supply from a monitored water tank with automatic top-up facilities.', 'A Siemens S7:315 PLC with local/Remote I/O\", \"modules was utilized for the control of the System. There is one Profibus network connected to a Fibre-Optic link to remote I/O and remote Siemens OP77A HMI. The system controlled a Generator and eight switchgear systems to enable power restoration during mains failure. A Mains 11kV voltage is monitored and when detected as failed the switching gear operated in a preset sequence to enable the generator to start and then once running and able to accept load the switching gear was enabled.', 'A leading UK Ice\", \"Cream manufacturer employed Zytec Systems ltd to develop the PLC software and commission a double Conveyor System to transport pallets carrying production materials between the warehouse and production facilities.', 'A leading online supermarket employed Zytec Systems ltd to develop the PLC & HMI software and commission a warehouse extension. A Siemens S7:319 PLC with local and Remote I/O modules was utilized for the control of the System. There was two Profibus networks, connecting to the two high density\", \"system cranes and six 2-channel ASi controllers which in turn connected to remote I/O.', 'About Us', 'Along with these statuses the DCT PLC monitored other inputs to provide throughput data at various stages of the process. Outputs were also utilized to provide line status indication via beacons for operator problem direction. Once the system was installed on all lines, this provided detailed information to the management of production lines effectiveness, along with detailed breakdown information and\", \"timings. The system was used to increase productivity and provide detailed analysis of maintenance requirements on the packaging machines by providing the most common faults which could be interrogated and in some cases eliminated. Other benefits included a revision of production procedures which also gave better line efficiency and increased production levels.', 'Arrow Valley Ltd', 'As the rig was part of a Robot Cell the safety aspect was carefully designed to ensure operator and machine security. The\", \"Fluting Rig was replacing a manual fluting operation with mechanical stops which need to be adjusted prior to changing parts. The new system held a database of the different parts and once selected via the HMI, the system would automatically load the data and operate to the new dimensions. This greatly reduced the setting time and parts being produced increased by 45% with the improved automation.', 'Bespoke SCADA & HMI Configuration', 'By installing control systems that encompass a wide variety of new\", \"technology we have gained knowledge and expertise required to provide professional and innovative solutions to all aspects of electrical engineering. Whilst working on projects with differing industrial processes we are able to offer valued engineering solutions often not considered by our clients.', 'CV10 0FJ', 'Career Opportunities', 'Cheltenham Racecourse employed Zytec Systems ltd to develop the PLC & HMI software and commission an automatic Power Monitoring & Generator Switching System.',\", '\\'Commissioning\\', \\'Company Profile\\', \\'Consultation\\', \\'Contact\\', \\'Control Panels\\', \\'Data Concentrators on cheese production lines\\', \"Data PLC\\'s\", \\'Development of our core business allows us to offer comprehensive services to clients by providing turnkey solutions in the design and implementation of electrical control systems.\\', \\'Disclaimer\\', \\'E:\\', \\'Enter your postcode:\\', \\'F: + 44 (0) 7043 075260\\', \"For further information on any of our services please don\\'t hesitate to Contact Us.\", \\'Formed in 2003, Zytec', 'Systems Limited is a UK based company that specialises in the design of electrical control systems, we are a progressive, innovative, customer focused company within the electrical engineering industry. We specialise in the automation and provision of electrical control systems within the industrial sector. We offer professional and comprehensive services based upon a foundation of experience. Delivering a quality service, Zytec has earned an excellent reputation for carrying out all aspects of electrical', \"engineering and PLC/SCADA software development to a high standard and at competitive rates. The company prides itself on supply quality of workmanship enforced by meticulous design, a punctual service and support for every customer.', 'Free cookie consent by cookie-script.com', 'From M6', 'General Enquiries', 'Get Directions (Google Maps)', 'Home', 'How To Find Us', 'I agree', 'Latest News', 'Leave Motorway at junction 3 (Coventry) turn onto A444 towards Nuneaton. Carry on through Nuneaton on the A444, once\", \"coming out of Nuneaton keep on the A444 and as you leave the developed area you come across newly built homes on both sides for the road. When you get to an island take the fourth exit onto Lower Farm Way, turn 3rd left and then next left and we are located on the left hand side.', 'Maintenance & System Breakdown Support', 'Michael Whiting - Director', 'Monday, July 13, 2020 1:34:37 AM', 'Nissan Cars water spray booths for vehicle integrity checks', 'Nuneaton', 'One Thing Control', 'Our Services', 'Our\", \"business has evolved with technology that has advanced over the last few decades, allowing us to provide bespoke solutions to all areas of industry. The success of Zytec is primarily based on its workforce and a firm belief that we can offer professional innovative services at competitive rates without jeopardising quality.', 'Our expertise has been recognised by leading PLC, SCADA, DCS, Drives, Industrial Network and Safety System vendors. By working closely with these suppliers we ensure proven, reliable\", \"and cost effective solutions for all your automation needs.', 'PLC Software Development', 'Pallet System', 'Pallet system to replenish production', 'Partners', 'Portfolio', 'Postal Address', 'Power control switching generator on mains failure', 'Privacy & Cookies', 'Privacy and Cookies', 'Racecourse', 'Racecourse Power', 'Read more', 'Services', 'Servo', 'Servo Control', 'Servo control of fluting rig within robot cell', 'Spray Booths', 'Spray Booths Project', 'Superior Automation Control Solutions', 'System\", \"Integration Design', 'Systems Engineer', 'T: + 44 (0) 2476 354346', 'The system comprised of two automatic cranes that stored totes containing part customer orders. The conveyor system transported the totes to the appropriate crane following manual picking of products. Upon a retrieval request the conveyor system transported the tote to the appropriate shipping lane in a predefined delivery order. This tote was then manually loaded onto a van for delivery . The system was increased to handle 3200 totes per\", \"hour to storage and providing an additional 14 shipping lanes doubling the number of vans capable of loading simultaneously.', 'The two pump sets (one for high pressure tests) were driven by Siemens VSD drives on a profinet network. When a vehicle was required to be tested the operator would move it into the booth and close the roller door. The operator would then select one of the preset six tests and the control system would use PID control to maintain a water pressure at the selected booth for a given\", \"test time. As other booths are started then the PID would automatically control to maintain the pressure. Once the test time had elapsed the operator was signaled via a pulsing siren and the relevant roller door would automatically open. The new system is used to verify the water integrity of the vehicles with shower tests lasting typically 24 hours and storm tests lasting typically 1 hour.', 'This website uses cookies', 'This website uses cookies to improve user experience. By using our website you consent\", \"to all cookies in accordance with our Cookie Policy.', 'Tuesday, August 11, 2020 3:21:03 PM', 'Tuesday, August 11, 2020 3:21:09 PM', 'Tuesday, August 11, 2020 3:25:29 PM', 'Tuesday, August 11, 2020 3:25:34 PM', 'Tuesday, August 11, 2020 3:32:00 PM', 'Turnkey Solutions', 'United Kingdom', 'Warehouse', 'Warehouse Control', 'Warehouse Project', 'Warehouse extension for growing dot com business', 'Warwickshire', 'We offer professional and comprehensive services based upon a foundation of experience.The company\", \"prides itself on supply quality of workmanship enforced by meticulous design, a punctual service and support for every customer. Below is a list of the most common services we are requested to supply:-', 'We specialise in the automation and provision of electrical control systems within the industrial sector.', 'Why Choose Us', 'ZYTEC SYSTEMS(UK) Ltd', 'Zytec Systems is a progressive, innovative, customer focused company within the electrical engineering industry.', 'Zytec Systems ltd was employed to\", \"develop the PLC & HMI software, test and commission a Fluting rig for fluting the end of Torque Wrench handles. The Fluting rig was contained within a Robot Cell and interface signals was required between the robot and the Rig PLC. A Siemens S7:300 PLC with a Proface GP HMI was utilized for the control of the System. The system also included for Local I/O and a Profibus Network to the Kollmorgen Servo controller, the HMI was connected to the PLC via Ethernet TCPIP.', 'Zytec Systems ltd was employed to\", 'develop the PLC & HMI software, test and commission four water spray booths.\\', \"Zytec Systems ltd was employed to develop the PLC software, test and commission nineteen data concentrator PLC\\'s for a household name supplier on their Cheese and Butter lines Each line comprised of a various number of machines to provide differing packaging solutions. The B&R X20 PLC\\'s was utilized for the monitoring of the Lines. Each PLC system monitored the various statuses of all the independent machines within the lines,', 'and reported back to the OEE Impact System via Ethernet TCPIP\", \\'Zytec Systems prides itself on providing only the best service and support for our clients, and at very competitive rates.\\', \"Zytec Systems was incorporated in 2003 and has developed it\\'s core business as a software development company for system integration and plant control. Following successful completion of projects within many industrial sectors we have acquired knowledge to offer valued engineering.\", \\'back to top\\', \\'copyright ©\\',', \"'disclaimer', 'info@zytecsystems.co.uk', 'read more ...']\"]\n",
            "['\"Since the incorporation of the company we have seen quite dramatic changes both in technology and the attitude of companies requiring remote access and support services. This sector has also called for infrastructure and security improvements that has increased the scope of our core business to include for high level languages and more integration with company IT systems. It is common for access and camera security systems to be integrated into an overall control and monitoring system with the inclusion\n"
          ],
          "name": "stdout"
        },
        {
          "output_type": "error",
          "ename": "TypeError",
          "evalue": "ignored",
          "traceback": [
            "\u001b[0;31m---------------------------------------------------------------------------\u001b[0m",
            "\u001b[0;31mTypeError\u001b[0m                                 Traceback (most recent call last)",
            "\u001b[0;32m<ipython-input-95-dbd9e706d95e>\u001b[0m in \u001b[0;36m<module>\u001b[0;34m()\u001b[0m\n\u001b[0;32m----> 1\u001b[0;31m \u001b[0mindex_data\u001b[0m\u001b[0;34m(\u001b[0m\u001b[0m_chunk\u001b[0m\u001b[0;34m)\u001b[0m\u001b[0;34m\u001b[0m\u001b[0;34m\u001b[0m\u001b[0m\n\u001b[0m",
            "\u001b[0;32m<ipython-input-91-d3b667b7992d>\u001b[0m in \u001b[0;36mindex_data\u001b[0;34m(description)\u001b[0m\n\u001b[1;32m     21\u001b[0m \u001b[0;34m\u001b[0m\u001b[0m\n\u001b[1;32m     22\u001b[0m     \u001b[0;32mif\u001b[0m \u001b[0mdocs\u001b[0m\u001b[0;34m:\u001b[0m\u001b[0;34m\u001b[0m\u001b[0;34m\u001b[0m\u001b[0m\n\u001b[0;32m---> 23\u001b[0;31m         \u001b[0mindex_batch\u001b[0m\u001b[0;34m(\u001b[0m\u001b[0mdocs\u001b[0m\u001b[0;34m)\u001b[0m\u001b[0;34m\u001b[0m\u001b[0;34m\u001b[0m\u001b[0m\n\u001b[0m\u001b[1;32m     24\u001b[0m         \u001b[0mprint\u001b[0m\u001b[0;34m(\u001b[0m\u001b[0;34m\"Indexed {} documents.\"\u001b[0m\u001b[0;34m.\u001b[0m\u001b[0mformat\u001b[0m\u001b[0;34m(\u001b[0m\u001b[0mcount\u001b[0m\u001b[0;34m)\u001b[0m\u001b[0;34m)\u001b[0m\u001b[0;34m\u001b[0m\u001b[0;34m\u001b[0m\u001b[0m\n\u001b[1;32m     25\u001b[0m \u001b[0;34m\u001b[0m\u001b[0m\n",
            "\u001b[0;32m<ipython-input-90-4481ae7d20c8>\u001b[0m in \u001b[0;36mindex_batch\u001b[0;34m(docs)\u001b[0m\n\u001b[1;32m      8\u001b[0m         \u001b[0mprint\u001b[0m\u001b[0;34m(\u001b[0m\u001b[0mdoc\u001b[0m\u001b[0;34m)\u001b[0m\u001b[0;34m\u001b[0m\u001b[0;34m\u001b[0m\u001b[0m\n\u001b[1;32m      9\u001b[0m         \u001b[0mrequest\u001b[0m \u001b[0;34m=\u001b[0m \u001b[0;34m\"doc\"\u001b[0m\u001b[0;34m\u001b[0m\u001b[0;34m\u001b[0m\u001b[0m\n\u001b[0;32m---> 10\u001b[0;31m         \u001b[0mrequest\u001b[0m\u001b[0;34m[\u001b[0m\u001b[0;34m\"_op_type\"\u001b[0m\u001b[0;34m]\u001b[0m \u001b[0;34m=\u001b[0m \u001b[0;34m\"index\"\u001b[0m\u001b[0;34m\u001b[0m\u001b[0;34m\u001b[0m\u001b[0m\n\u001b[0m\u001b[1;32m     11\u001b[0m         \u001b[0mrequest\u001b[0m\u001b[0;34m[\u001b[0m\u001b[0;34m\"_index\"\u001b[0m\u001b[0;34m]\u001b[0m \u001b[0;34m=\u001b[0m \u001b[0mES_INDEX_NAME\u001b[0m\u001b[0;34m\u001b[0m\u001b[0;34m\u001b[0m\u001b[0m\n\u001b[1;32m     12\u001b[0m         \u001b[0mrequest\u001b[0m\u001b[0;34m[\u001b[0m\u001b[0;34m\"description_vector\"\u001b[0m\u001b[0;34m]\u001b[0m \u001b[0;34m=\u001b[0m \u001b[0mdescription_vectors\u001b[0m\u001b[0;34m[\u001b[0m\u001b[0mi\u001b[0m\u001b[0;34m]\u001b[0m\u001b[0;34m\u001b[0m\u001b[0;34m\u001b[0m\u001b[0m\n",
            "\u001b[0;31mTypeError\u001b[0m: 'str' object does not support item assignment"
          ]
        }
      ]
    },
    {
      "cell_type": "code",
      "metadata": {
        "id": "fY38prz_SyTE"
      },
      "source": [
        "## Function to handle the query\n",
        "def run_query_loop(keyword):\n",
        "        result = handle_query(keyword)\n",
        "        return result"
      ],
      "execution_count": null,
      "outputs": []
    },
    {
      "cell_type": "code",
      "metadata": {
        "id": "i-nWPC1lSyTH"
      },
      "source": [
        "from itertools import chain\n",
        "def handle_query(query):\n",
        "    embedding_start = time.time()\n",
        "    query_vector = embed_text([query])[0]\n",
        "    embedding_time = time.time() - embedding_start\n",
        "    \n",
        "    script_query = {\n",
        "        \"script_score\": {\n",
        "            \"query\": {\"match_all\": {}},\n",
        "            \"script\": {\n",
        "                \"source\": \"cosineSimilarity(params.query_vector, doc['description_vector']) + 1.0\",\n",
        "                \"params\": {\"query_vector\": query_vector}\n",
        "            }\n",
        "        }\n",
        "    }\n",
        "\n",
        "    search_start = time.time()\n",
        "    response = es.search(\n",
        "        index=ES_INDEX_NAME,\n",
        "        body={\n",
        "            \"size\": SEARCH_SIZE,\n",
        "            \"query\": script_query,\n",
        "            \"_source\": {\"includes\": [\"company\", \"description\"]}\n",
        "        }\n",
        "    )\n",
        "    search_time = time.time() - search_start\n",
        "    results = {}\n",
        "    a=[]\n",
        "    print()\n",
        "    print(\"{} total hits.\".format(response[\"hits\"][\"total\"][\"value\"]))\n",
        "    print(\"embedding time: {:.2f} ms\".format(embedding_time * 1000))\n",
        "    print(\"search time: {:.2f} ms\".format(search_time * 1000))\n",
        "    for hit in response[\"hits\"][\"hits\"]:\n",
        "      hit=[hit]\n",
        "      a.append([{**x, **x.pop('_source')} for x in hit])\n",
        "    df = pd.DataFrame(list(chain.from_iterable(a)))\n",
        "    return df"
      ],
      "execution_count": null,
      "outputs": []
    },
    {
      "cell_type": "code",
      "metadata": {
        "id": "ov1ubyBSSyTL",
        "outputId": "146163e2-8c46-4e48-e440-1ac3e39c8b39"
      },
      "source": [
        "response = es.search(index=\"start_auto_91\", body={\"size\": 0,\"query\":{\"match_all\" : {}  },}  )\n",
        "print(response)"
      ],
      "execution_count": null,
      "outputs": [
        {
          "output_type": "stream",
          "text": [
            "{'took': 0, 'timed_out': False, '_shards': {'total': 2, 'successful': 2, 'skipped': 0, 'failed': 0}, 'hits': {'total': {'value': 3900, 'relation': 'eq'}, 'max_score': None, 'hits': []}}\n"
          ],
          "name": "stdout"
        }
      ]
    },
    {
      "cell_type": "code",
      "metadata": {
        "id": "-eYf1YuxSyTU"
      },
      "source": [
        "keywords = ['eCommerce', 'insurance','logistics']"
      ],
      "execution_count": null,
      "outputs": []
    },
    {
      "cell_type": "code",
      "metadata": {
        "id": "WK1veRbnSyTZ"
      },
      "source": [
        "indices_names = []\n",
        "for elem in es.cat.indices(format=\"json\"):\n",
        "    indices_names.append( elem['index'] )\n",
        "\n",
        "dict_index_fields = {}\n",
        "\n",
        "for index in indices_names: \n",
        "    mapping = es.indices.get_mapping(index)\n",
        "    dict_index_fields[index] = []\n",
        "    for field in mapping[index]['mappings']['properties']:\n",
        "        dict_index_fields[index].append(field) "
      ],
      "execution_count": null,
      "outputs": []
    },
    {
      "cell_type": "code",
      "metadata": {
        "id": "tFAYwbSoSyTd",
        "outputId": "196412e3-0362-40d2-85ff-d225a6401f4f"
      },
      "source": [
        "#indexautobert = start_auto_be_10, start_auto_b_10,start_auto_19\n",
        "#ES_INDEX_NAME = \"start_auto_91\"\n",
        "#es.indices.delete(index='start_auto_19')"
      ],
      "execution_count": null,
      "outputs": [
        {
          "output_type": "execute_result",
          "data": {
            "text/plain": [
              "{'acknowledged': True}"
            ]
          },
          "metadata": {
            "tags": []
          },
          "execution_count": 56
        }
      ]
    },
    {
      "cell_type": "code",
      "metadata": {
        "scrolled": true,
        "id": "F7cG17kESyTj"
      },
      "source": [
        "dict_index_fields"
      ],
      "execution_count": null,
      "outputs": []
    },
    {
      "cell_type": "code",
      "metadata": {
        "id": "Ru4wH63zSyTo",
        "outputId": "13206b64-49ec-4c61-8212-6ee940528cec"
      },
      "source": [
        "for keyword in keywords:\n",
        "   result= run_query_loop(keyword)   \n",
        "   name= f'100k_{keyword}'\n",
        "   print(name)\n",
        "   result.to_excel(f'{name}.xlsx')"
      ],
      "execution_count": null,
      "outputs": [
        {
          "output_type": "stream",
          "text": [
            "\n",
            "3900 total hits.\n",
            "embedding time: 30.90 ms\n",
            "search time: 53.13 ms\n",
            "100k_eCommerce\n",
            "\n",
            "3900 total hits.\n",
            "embedding time: 44.58 ms\n",
            "search time: 53.71 ms\n",
            "100k_insurance\n",
            "\n",
            "3900 total hits.\n",
            "embedding time: 93.98 ms\n",
            "search time: 47.05 ms\n",
            "100k_logistics\n"
          ],
          "name": "stdout"
        }
      ]
    },
    {
      "cell_type": "code",
      "metadata": {
        "id": "Pfr5XPAHSyTr",
        "outputId": "e393bb28-ffd7-4e22-fc8d-610022345e6c"
      },
      "source": [
        "pip install xlsxwriter"
      ],
      "execution_count": null,
      "outputs": [
        {
          "output_type": "stream",
          "text": [
            "Collecting xlsxwriter\n",
            "  Downloading XlsxWriter-1.3.7-py2.py3-none-any.whl (144 kB)\n",
            "\u001b[K     |████████████████████████████████| 144 kB 6.2 MB/s eta 0:00:01\n",
            "\u001b[?25hInstalling collected packages: xlsxwriter\n",
            "Successfully installed xlsxwriter-1.3.7\n",
            "Note: you may need to restart the kernel to use updated packages.\n"
          ],
          "name": "stdout"
        }
      ]
    },
    {
      "cell_type": "code",
      "metadata": {
        "id": "D-HnnFpnSyTx"
      },
      "source": [
        ""
      ],
      "execution_count": null,
      "outputs": []
    }
  ]
}